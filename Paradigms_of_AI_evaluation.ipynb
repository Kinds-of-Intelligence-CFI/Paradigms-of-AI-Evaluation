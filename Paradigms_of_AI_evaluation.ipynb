{
 "cells": [
  {
   "cell_type": "code",
   "id": "initial_id",
   "metadata": {
    "collapsed": true,
    "ExecuteTime": {
     "end_time": "2025-02-12T18:15:28.717844Z",
     "start_time": "2025-02-12T18:15:28.651543Z"
    }
   },
   "source": [
    "import pandas as pd\n",
    "from sklearn.preprocessing import MultiLabelBinarizer\n",
    "from sklearn.metrics import pairwise_distances\n",
    "import umap.umap_ as umap\n",
    "import plotly.express as px\n"
   ],
   "outputs": [],
   "execution_count": 33
  },
  {
   "metadata": {},
   "cell_type": "markdown",
   "source": "# Import and view data",
   "id": "a6b533a66b3c1413"
  },
  {
   "metadata": {
    "ExecuteTime": {
     "end_time": "2025-02-12T17:39:58.493071Z",
     "start_time": "2025-02-12T17:39:58.468972Z"
    }
   },
   "cell_type": "code",
   "source": "data = pd.read_csv('Paradigms_of_AI_evaluation.csv')",
   "id": "3c46f9f1232dc33f",
   "outputs": [],
   "execution_count": 5
  },
  {
   "metadata": {
    "ExecuteTime": {
     "end_time": "2025-02-12T17:39:59.479603Z",
     "start_time": "2025-02-12T17:39:59.470432Z"
    }
   },
   "cell_type": "code",
   "source": "data.head()",
   "id": "790b2e250c8f1068",
   "outputs": [
    {
     "data": {
      "text/plain": [
       "                                               Paper  \\\n",
       "0                                               MMLU   \n",
       "1                                               GPQA   \n",
       "2                                          SWE Bench   \n",
       "3  The WMDP Benchmark: Measuring and Reducing Mal...   \n",
       "4                                   Safety Gymnasium   \n",
       "\n",
       "                               Link  Year            Indicator  \\\n",
       "0  https://arxiv.org/abs/2009.03300  2021          Performance   \n",
       "1  https://arxiv.org/pdf/2311.12022  2023          Performance   \n",
       "2  https://arxiv.org/pdf/2310.06770  2023          Performance   \n",
       "3  https://arxiv.org/pdf/2403.03218  2024  Performance, Safety   \n",
       "4  https://arxiv.org/pdf/2310.12567  2023  Performance, Safety   \n",
       "\n",
       "     Distribution             Subject Measurement Task origin    Protocol  \\\n",
       "0  Aggregate Case              System    Observed      Sample       Fixed   \n",
       "1  Aggregate Case              System    Observed      Design       Fixed   \n",
       "2  Aggregate Case              System    Observed      Sample       Fixed   \n",
       "3  Aggregate Case              System    Observed      Design       Fixed   \n",
       "4  Aggregate Case  System, Algorithms    Observed      Design  Procedural   \n",
       "\n",
       "   Reference      Task Modes   Evaluators             Motivation  \\\n",
       "0  Objective  Identification  Researchers             Comparison   \n",
       "1  Objective  Identification  Researchers             Comparison   \n",
       "2  Objective      Generation  Researchers             Comparison   \n",
       "3  Objective  Identification  Researchers  Assurance, Comparison   \n",
       "4  Objective      Generation  Researchers             Comparison   \n",
       "\n",
       "                Discipline      Paradigm  \n",
       "0                       AI  Benchmarking  \n",
       "1                       AI  Benchmarking  \n",
       "2                       AI  Benchmarking  \n",
       "3  AI, Security, Bio, Chem  Benchmarking  \n",
       "4                       AI  Benchmarking  "
      ],
      "text/html": [
       "<div>\n",
       "<style scoped>\n",
       "    .dataframe tbody tr th:only-of-type {\n",
       "        vertical-align: middle;\n",
       "    }\n",
       "\n",
       "    .dataframe tbody tr th {\n",
       "        vertical-align: top;\n",
       "    }\n",
       "\n",
       "    .dataframe thead th {\n",
       "        text-align: right;\n",
       "    }\n",
       "</style>\n",
       "<table border=\"1\" class=\"dataframe\">\n",
       "  <thead>\n",
       "    <tr style=\"text-align: right;\">\n",
       "      <th></th>\n",
       "      <th>Paper</th>\n",
       "      <th>Link</th>\n",
       "      <th>Year</th>\n",
       "      <th>Indicator</th>\n",
       "      <th>Distribution</th>\n",
       "      <th>Subject</th>\n",
       "      <th>Measurement</th>\n",
       "      <th>Task origin</th>\n",
       "      <th>Protocol</th>\n",
       "      <th>Reference</th>\n",
       "      <th>Task Modes</th>\n",
       "      <th>Evaluators</th>\n",
       "      <th>Motivation</th>\n",
       "      <th>Discipline</th>\n",
       "      <th>Paradigm</th>\n",
       "    </tr>\n",
       "  </thead>\n",
       "  <tbody>\n",
       "    <tr>\n",
       "      <th>0</th>\n",
       "      <td>MMLU</td>\n",
       "      <td>https://arxiv.org/abs/2009.03300</td>\n",
       "      <td>2021</td>\n",
       "      <td>Performance</td>\n",
       "      <td>Aggregate Case</td>\n",
       "      <td>System</td>\n",
       "      <td>Observed</td>\n",
       "      <td>Sample</td>\n",
       "      <td>Fixed</td>\n",
       "      <td>Objective</td>\n",
       "      <td>Identification</td>\n",
       "      <td>Researchers</td>\n",
       "      <td>Comparison</td>\n",
       "      <td>AI</td>\n",
       "      <td>Benchmarking</td>\n",
       "    </tr>\n",
       "    <tr>\n",
       "      <th>1</th>\n",
       "      <td>GPQA</td>\n",
       "      <td>https://arxiv.org/pdf/2311.12022</td>\n",
       "      <td>2023</td>\n",
       "      <td>Performance</td>\n",
       "      <td>Aggregate Case</td>\n",
       "      <td>System</td>\n",
       "      <td>Observed</td>\n",
       "      <td>Design</td>\n",
       "      <td>Fixed</td>\n",
       "      <td>Objective</td>\n",
       "      <td>Identification</td>\n",
       "      <td>Researchers</td>\n",
       "      <td>Comparison</td>\n",
       "      <td>AI</td>\n",
       "      <td>Benchmarking</td>\n",
       "    </tr>\n",
       "    <tr>\n",
       "      <th>2</th>\n",
       "      <td>SWE Bench</td>\n",
       "      <td>https://arxiv.org/pdf/2310.06770</td>\n",
       "      <td>2023</td>\n",
       "      <td>Performance</td>\n",
       "      <td>Aggregate Case</td>\n",
       "      <td>System</td>\n",
       "      <td>Observed</td>\n",
       "      <td>Sample</td>\n",
       "      <td>Fixed</td>\n",
       "      <td>Objective</td>\n",
       "      <td>Generation</td>\n",
       "      <td>Researchers</td>\n",
       "      <td>Comparison</td>\n",
       "      <td>AI</td>\n",
       "      <td>Benchmarking</td>\n",
       "    </tr>\n",
       "    <tr>\n",
       "      <th>3</th>\n",
       "      <td>The WMDP Benchmark: Measuring and Reducing Mal...</td>\n",
       "      <td>https://arxiv.org/pdf/2403.03218</td>\n",
       "      <td>2024</td>\n",
       "      <td>Performance, Safety</td>\n",
       "      <td>Aggregate Case</td>\n",
       "      <td>System</td>\n",
       "      <td>Observed</td>\n",
       "      <td>Design</td>\n",
       "      <td>Fixed</td>\n",
       "      <td>Objective</td>\n",
       "      <td>Identification</td>\n",
       "      <td>Researchers</td>\n",
       "      <td>Assurance, Comparison</td>\n",
       "      <td>AI, Security, Bio, Chem</td>\n",
       "      <td>Benchmarking</td>\n",
       "    </tr>\n",
       "    <tr>\n",
       "      <th>4</th>\n",
       "      <td>Safety Gymnasium</td>\n",
       "      <td>https://arxiv.org/pdf/2310.12567</td>\n",
       "      <td>2023</td>\n",
       "      <td>Performance, Safety</td>\n",
       "      <td>Aggregate Case</td>\n",
       "      <td>System, Algorithms</td>\n",
       "      <td>Observed</td>\n",
       "      <td>Design</td>\n",
       "      <td>Procedural</td>\n",
       "      <td>Objective</td>\n",
       "      <td>Generation</td>\n",
       "      <td>Researchers</td>\n",
       "      <td>Comparison</td>\n",
       "      <td>AI</td>\n",
       "      <td>Benchmarking</td>\n",
       "    </tr>\n",
       "  </tbody>\n",
       "</table>\n",
       "</div>"
      ]
     },
     "execution_count": 6,
     "metadata": {},
     "output_type": "execute_result"
    }
   ],
   "execution_count": 6
  },
  {
   "metadata": {
    "ExecuteTime": {
     "end_time": "2025-02-12T17:40:21.284054Z",
     "start_time": "2025-02-12T17:40:21.279865Z"
    }
   },
   "cell_type": "code",
   "source": "data['Paradigm'].value_counts()",
   "id": "6964fb529e8745ca",
   "outputs": [
    {
     "data": {
      "text/plain": [
       "Paradigm\n",
       "Benchmarking                        69\n",
       "Exploratory                         14\n",
       "Construct-oriented                  12\n",
       "Evals                               11\n",
       "TEVV                                10\n",
       "Real-World Impact                    4\n",
       "Construct-oriented & Exploratory     3\n",
       "Evals & Benchmarking                 2\n",
       "Exploratory & Benchmarking           1\n",
       "Name: count, dtype: int64"
      ]
     },
     "execution_count": 8,
     "metadata": {},
     "output_type": "execute_result"
    }
   ],
   "execution_count": 8
  },
  {
   "metadata": {},
   "cell_type": "markdown",
   "source": "# One-hot encode the dimensions",
   "id": "74f9ed5e5ec0a58b"
  },
  {
   "metadata": {
    "ExecuteTime": {
     "end_time": "2025-02-12T17:41:32.830121Z",
     "start_time": "2025-02-12T17:41:32.786070Z"
    }
   },
   "cell_type": "code",
   "source": [
    "analysis_data = data.drop(columns=[\"Paper\", \"Link\", \"Year\",'Paradigm'])\n",
    "analysis_data.head()"
   ],
   "id": "403d016d72cacbb7",
   "outputs": [
    {
     "data": {
      "text/plain": [
       "             Indicator    Distribution             Subject Measurement  \\\n",
       "0          Performance  Aggregate Case              System    Observed   \n",
       "1          Performance  Aggregate Case              System    Observed   \n",
       "2          Performance  Aggregate Case              System    Observed   \n",
       "3  Performance, Safety  Aggregate Case              System    Observed   \n",
       "4  Performance, Safety  Aggregate Case  System, Algorithms    Observed   \n",
       "\n",
       "  Task origin    Protocol  Reference      Task Modes   Evaluators  \\\n",
       "0      Sample       Fixed  Objective  Identification  Researchers   \n",
       "1      Design       Fixed  Objective  Identification  Researchers   \n",
       "2      Sample       Fixed  Objective      Generation  Researchers   \n",
       "3      Design       Fixed  Objective  Identification  Researchers   \n",
       "4      Design  Procedural  Objective      Generation  Researchers   \n",
       "\n",
       "              Motivation               Discipline  \n",
       "0             Comparison                       AI  \n",
       "1             Comparison                       AI  \n",
       "2             Comparison                       AI  \n",
       "3  Assurance, Comparison  AI, Security, Bio, Chem  \n",
       "4             Comparison                       AI  "
      ],
      "text/html": [
       "<div>\n",
       "<style scoped>\n",
       "    .dataframe tbody tr th:only-of-type {\n",
       "        vertical-align: middle;\n",
       "    }\n",
       "\n",
       "    .dataframe tbody tr th {\n",
       "        vertical-align: top;\n",
       "    }\n",
       "\n",
       "    .dataframe thead th {\n",
       "        text-align: right;\n",
       "    }\n",
       "</style>\n",
       "<table border=\"1\" class=\"dataframe\">\n",
       "  <thead>\n",
       "    <tr style=\"text-align: right;\">\n",
       "      <th></th>\n",
       "      <th>Indicator</th>\n",
       "      <th>Distribution</th>\n",
       "      <th>Subject</th>\n",
       "      <th>Measurement</th>\n",
       "      <th>Task origin</th>\n",
       "      <th>Protocol</th>\n",
       "      <th>Reference</th>\n",
       "      <th>Task Modes</th>\n",
       "      <th>Evaluators</th>\n",
       "      <th>Motivation</th>\n",
       "      <th>Discipline</th>\n",
       "    </tr>\n",
       "  </thead>\n",
       "  <tbody>\n",
       "    <tr>\n",
       "      <th>0</th>\n",
       "      <td>Performance</td>\n",
       "      <td>Aggregate Case</td>\n",
       "      <td>System</td>\n",
       "      <td>Observed</td>\n",
       "      <td>Sample</td>\n",
       "      <td>Fixed</td>\n",
       "      <td>Objective</td>\n",
       "      <td>Identification</td>\n",
       "      <td>Researchers</td>\n",
       "      <td>Comparison</td>\n",
       "      <td>AI</td>\n",
       "    </tr>\n",
       "    <tr>\n",
       "      <th>1</th>\n",
       "      <td>Performance</td>\n",
       "      <td>Aggregate Case</td>\n",
       "      <td>System</td>\n",
       "      <td>Observed</td>\n",
       "      <td>Design</td>\n",
       "      <td>Fixed</td>\n",
       "      <td>Objective</td>\n",
       "      <td>Identification</td>\n",
       "      <td>Researchers</td>\n",
       "      <td>Comparison</td>\n",
       "      <td>AI</td>\n",
       "    </tr>\n",
       "    <tr>\n",
       "      <th>2</th>\n",
       "      <td>Performance</td>\n",
       "      <td>Aggregate Case</td>\n",
       "      <td>System</td>\n",
       "      <td>Observed</td>\n",
       "      <td>Sample</td>\n",
       "      <td>Fixed</td>\n",
       "      <td>Objective</td>\n",
       "      <td>Generation</td>\n",
       "      <td>Researchers</td>\n",
       "      <td>Comparison</td>\n",
       "      <td>AI</td>\n",
       "    </tr>\n",
       "    <tr>\n",
       "      <th>3</th>\n",
       "      <td>Performance, Safety</td>\n",
       "      <td>Aggregate Case</td>\n",
       "      <td>System</td>\n",
       "      <td>Observed</td>\n",
       "      <td>Design</td>\n",
       "      <td>Fixed</td>\n",
       "      <td>Objective</td>\n",
       "      <td>Identification</td>\n",
       "      <td>Researchers</td>\n",
       "      <td>Assurance, Comparison</td>\n",
       "      <td>AI, Security, Bio, Chem</td>\n",
       "    </tr>\n",
       "    <tr>\n",
       "      <th>4</th>\n",
       "      <td>Performance, Safety</td>\n",
       "      <td>Aggregate Case</td>\n",
       "      <td>System, Algorithms</td>\n",
       "      <td>Observed</td>\n",
       "      <td>Design</td>\n",
       "      <td>Procedural</td>\n",
       "      <td>Objective</td>\n",
       "      <td>Generation</td>\n",
       "      <td>Researchers</td>\n",
       "      <td>Comparison</td>\n",
       "      <td>AI</td>\n",
       "    </tr>\n",
       "  </tbody>\n",
       "</table>\n",
       "</div>"
      ]
     },
     "execution_count": 9,
     "metadata": {},
     "output_type": "execute_result"
    }
   ],
   "execution_count": 9
  },
  {
   "metadata": {
    "ExecuteTime": {
     "end_time": "2025-02-12T17:52:46.611429Z",
     "start_time": "2025-02-12T17:52:46.602600Z"
    }
   },
   "cell_type": "code",
   "source": [
    "def onehot_encode_all_features(df):\n",
    "    encoded_dfs = []  # Store encoded DataFrames\n",
    "\n",
    "    for column in df.columns:\n",
    "        if df[column].dtype == object and df[column].str.contains(',').any():\n",
    "            # Handle multi-label categorical columns\n",
    "            split_values = df[column].dropna().str.split(',').apply(lambda x: [entry.strip() for entry in x])\n",
    "            mlb = MultiLabelBinarizer()\n",
    "            encoded = pd.DataFrame(\n",
    "                mlb.fit_transform(split_values),\n",
    "                columns=[f\"{column}_{value}\" for value in mlb.classes_],\n",
    "                index=split_values.index\n",
    "            )\n",
    "            encoded_dfs.append(encoded)\n",
    "        else:\n",
    "            # Handle single-label categorical columns\n",
    "            onehot_encoded = pd.get_dummies(df[column], prefix=column)\n",
    "            encoded_dfs.append(onehot_encoded)\n",
    "\n",
    "    # Concatenate all encoded columns once, instead of repeatedly inside the loop\n",
    "    return pd.concat(encoded_dfs, axis=1).astype(bool)\n"
   ],
   "id": "5b03c621276a6554",
   "outputs": [],
   "execution_count": 20
  },
  {
   "metadata": {
    "ExecuteTime": {
     "end_time": "2025-02-12T17:53:15.063109Z",
     "start_time": "2025-02-12T17:53:15.043892Z"
    }
   },
   "cell_type": "code",
   "source": "onehot_encoded_data = onehot_encode_all_features(analysis_data)",
   "id": "d408bf82aa393c65",
   "outputs": [],
   "execution_count": 24
  },
  {
   "metadata": {
    "ExecuteTime": {
     "end_time": "2025-02-12T17:53:21.100114Z",
     "start_time": "2025-02-12T17:53:21.090390Z"
    }
   },
   "cell_type": "code",
   "source": "onehot_encoded_data.head()",
   "id": "b2bfe5fd1dc5f8f7",
   "outputs": [
    {
     "data": {
      "text/plain": [
       "   Indicator_Behaviour  Indicator_Cost  Indicator_Fairness  \\\n",
       "0                False           False               False   \n",
       "1                False           False               False   \n",
       "2                False           False               False   \n",
       "3                False           False               False   \n",
       "4                False           False               False   \n",
       "\n",
       "   Indicator_Performance  Indicator_Robustness and reliability  \\\n",
       "0                   True                                 False   \n",
       "1                   True                                 False   \n",
       "2                   True                                 False   \n",
       "3                   True                                 False   \n",
       "4                   True                                 False   \n",
       "\n",
       "   Indicator_Safety  Distribution_Aggregate Case  Distribution_Extreme Case  \\\n",
       "0             False                         True                      False   \n",
       "1             False                         True                      False   \n",
       "2             False                         True                      False   \n",
       "3              True                         True                      False   \n",
       "4              True                         True                      False   \n",
       "\n",
       "   Distribution_Functional  Distribution_Manual inspection  ...  \\\n",
       "0                    False                           False  ...   \n",
       "1                    False                           False  ...   \n",
       "2                    False                           False  ...   \n",
       "3                    False                           False  ...   \n",
       "4                    False                           False  ...   \n",
       "\n",
       "   Discipline_Climate Science  Discipline_Consulting  Discipline_Economics  \\\n",
       "0                       False                  False                 False   \n",
       "1                       False                  False                 False   \n",
       "2                       False                  False                 False   \n",
       "3                       False                  False                 False   \n",
       "4                       False                  False                 False   \n",
       "\n",
       "   Discipline_Education  Discipline_Law  Discipline_Linguistics  \\\n",
       "0                 False           False                   False   \n",
       "1                 False           False                   False   \n",
       "2                 False           False                   False   \n",
       "3                 False           False                   False   \n",
       "4                 False           False                   False   \n",
       "\n",
       "   Discipline_Math  Discipline_Psychology  Discipline_Security  \\\n",
       "0            False                  False                False   \n",
       "1            False                  False                False   \n",
       "2            False                  False                False   \n",
       "3            False                  False                 True   \n",
       "4            False                  False                False   \n",
       "\n",
       "   Discipline_Software Engineering  \n",
       "0                            False  \n",
       "1                            False  \n",
       "2                            False  \n",
       "3                            False  \n",
       "4                            False  \n",
       "\n",
       "[5 rows x 47 columns]"
      ],
      "text/html": [
       "<div>\n",
       "<style scoped>\n",
       "    .dataframe tbody tr th:only-of-type {\n",
       "        vertical-align: middle;\n",
       "    }\n",
       "\n",
       "    .dataframe tbody tr th {\n",
       "        vertical-align: top;\n",
       "    }\n",
       "\n",
       "    .dataframe thead th {\n",
       "        text-align: right;\n",
       "    }\n",
       "</style>\n",
       "<table border=\"1\" class=\"dataframe\">\n",
       "  <thead>\n",
       "    <tr style=\"text-align: right;\">\n",
       "      <th></th>\n",
       "      <th>Indicator_Behaviour</th>\n",
       "      <th>Indicator_Cost</th>\n",
       "      <th>Indicator_Fairness</th>\n",
       "      <th>Indicator_Performance</th>\n",
       "      <th>Indicator_Robustness and reliability</th>\n",
       "      <th>Indicator_Safety</th>\n",
       "      <th>Distribution_Aggregate Case</th>\n",
       "      <th>Distribution_Extreme Case</th>\n",
       "      <th>Distribution_Functional</th>\n",
       "      <th>Distribution_Manual inspection</th>\n",
       "      <th>...</th>\n",
       "      <th>Discipline_Climate Science</th>\n",
       "      <th>Discipline_Consulting</th>\n",
       "      <th>Discipline_Economics</th>\n",
       "      <th>Discipline_Education</th>\n",
       "      <th>Discipline_Law</th>\n",
       "      <th>Discipline_Linguistics</th>\n",
       "      <th>Discipline_Math</th>\n",
       "      <th>Discipline_Psychology</th>\n",
       "      <th>Discipline_Security</th>\n",
       "      <th>Discipline_Software Engineering</th>\n",
       "    </tr>\n",
       "  </thead>\n",
       "  <tbody>\n",
       "    <tr>\n",
       "      <th>0</th>\n",
       "      <td>False</td>\n",
       "      <td>False</td>\n",
       "      <td>False</td>\n",
       "      <td>True</td>\n",
       "      <td>False</td>\n",
       "      <td>False</td>\n",
       "      <td>True</td>\n",
       "      <td>False</td>\n",
       "      <td>False</td>\n",
       "      <td>False</td>\n",
       "      <td>...</td>\n",
       "      <td>False</td>\n",
       "      <td>False</td>\n",
       "      <td>False</td>\n",
       "      <td>False</td>\n",
       "      <td>False</td>\n",
       "      <td>False</td>\n",
       "      <td>False</td>\n",
       "      <td>False</td>\n",
       "      <td>False</td>\n",
       "      <td>False</td>\n",
       "    </tr>\n",
       "    <tr>\n",
       "      <th>1</th>\n",
       "      <td>False</td>\n",
       "      <td>False</td>\n",
       "      <td>False</td>\n",
       "      <td>True</td>\n",
       "      <td>False</td>\n",
       "      <td>False</td>\n",
       "      <td>True</td>\n",
       "      <td>False</td>\n",
       "      <td>False</td>\n",
       "      <td>False</td>\n",
       "      <td>...</td>\n",
       "      <td>False</td>\n",
       "      <td>False</td>\n",
       "      <td>False</td>\n",
       "      <td>False</td>\n",
       "      <td>False</td>\n",
       "      <td>False</td>\n",
       "      <td>False</td>\n",
       "      <td>False</td>\n",
       "      <td>False</td>\n",
       "      <td>False</td>\n",
       "    </tr>\n",
       "    <tr>\n",
       "      <th>2</th>\n",
       "      <td>False</td>\n",
       "      <td>False</td>\n",
       "      <td>False</td>\n",
       "      <td>True</td>\n",
       "      <td>False</td>\n",
       "      <td>False</td>\n",
       "      <td>True</td>\n",
       "      <td>False</td>\n",
       "      <td>False</td>\n",
       "      <td>False</td>\n",
       "      <td>...</td>\n",
       "      <td>False</td>\n",
       "      <td>False</td>\n",
       "      <td>False</td>\n",
       "      <td>False</td>\n",
       "      <td>False</td>\n",
       "      <td>False</td>\n",
       "      <td>False</td>\n",
       "      <td>False</td>\n",
       "      <td>False</td>\n",
       "      <td>False</td>\n",
       "    </tr>\n",
       "    <tr>\n",
       "      <th>3</th>\n",
       "      <td>False</td>\n",
       "      <td>False</td>\n",
       "      <td>False</td>\n",
       "      <td>True</td>\n",
       "      <td>False</td>\n",
       "      <td>True</td>\n",
       "      <td>True</td>\n",
       "      <td>False</td>\n",
       "      <td>False</td>\n",
       "      <td>False</td>\n",
       "      <td>...</td>\n",
       "      <td>False</td>\n",
       "      <td>False</td>\n",
       "      <td>False</td>\n",
       "      <td>False</td>\n",
       "      <td>False</td>\n",
       "      <td>False</td>\n",
       "      <td>False</td>\n",
       "      <td>False</td>\n",
       "      <td>True</td>\n",
       "      <td>False</td>\n",
       "    </tr>\n",
       "    <tr>\n",
       "      <th>4</th>\n",
       "      <td>False</td>\n",
       "      <td>False</td>\n",
       "      <td>False</td>\n",
       "      <td>True</td>\n",
       "      <td>False</td>\n",
       "      <td>True</td>\n",
       "      <td>True</td>\n",
       "      <td>False</td>\n",
       "      <td>False</td>\n",
       "      <td>False</td>\n",
       "      <td>...</td>\n",
       "      <td>False</td>\n",
       "      <td>False</td>\n",
       "      <td>False</td>\n",
       "      <td>False</td>\n",
       "      <td>False</td>\n",
       "      <td>False</td>\n",
       "      <td>False</td>\n",
       "      <td>False</td>\n",
       "      <td>False</td>\n",
       "      <td>False</td>\n",
       "    </tr>\n",
       "  </tbody>\n",
       "</table>\n",
       "<p>5 rows × 47 columns</p>\n",
       "</div>"
      ]
     },
     "execution_count": 25,
     "metadata": {},
     "output_type": "execute_result"
    }
   ],
   "execution_count": 25
  },
  {
   "metadata": {
    "ExecuteTime": {
     "end_time": "2025-02-12T17:59:43.385107Z",
     "start_time": "2025-02-12T17:59:43.377686Z"
    }
   },
   "cell_type": "code",
   "source": [
    "onehot_encoded_data_array = onehot_encoded_data.to_numpy()\n",
    "onehot_encoded_data_array[:5,:]"
   ],
   "id": "ec789d55a6231071",
   "outputs": [
    {
     "data": {
      "text/plain": [
       "array([[False, False, False,  True, False, False,  True, False, False,\n",
       "        False, False, False,  True, False,  True, False, False,  True,\n",
       "        False,  True, False, False, False,  True, False, False, False,\n",
       "         True, False, False,  True, False,  True, False,  True, False,\n",
       "        False, False, False, False, False, False, False, False, False,\n",
       "        False, False],\n",
       "       [False, False, False,  True, False, False,  True, False, False,\n",
       "        False, False, False,  True, False,  True,  True, False, False,\n",
       "        False,  True, False, False, False,  True, False, False, False,\n",
       "         True, False, False,  True, False,  True, False,  True, False,\n",
       "        False, False, False, False, False, False, False, False, False,\n",
       "        False, False],\n",
       "       [False, False, False,  True, False, False,  True, False, False,\n",
       "        False, False, False,  True, False,  True, False, False,  True,\n",
       "        False,  True, False, False, False,  True, False, False,  True,\n",
       "        False, False, False,  True, False,  True, False,  True, False,\n",
       "        False, False, False, False, False, False, False, False, False,\n",
       "        False, False],\n",
       "       [False, False, False,  True, False,  True,  True, False, False,\n",
       "        False, False, False,  True, False,  True,  True, False, False,\n",
       "        False,  True, False, False, False,  True, False, False, False,\n",
       "         True, False, False,  True,  True,  True, False,  True,  True,\n",
       "         True, False, False, False, False, False, False, False, False,\n",
       "         True, False],\n",
       "       [False, False, False,  True, False,  True,  True, False, False,\n",
       "        False,  True, False,  True, False,  True,  True, False, False,\n",
       "        False, False, False,  True, False,  True, False, False,  True,\n",
       "        False, False, False,  True, False,  True, False,  True, False,\n",
       "        False, False, False, False, False, False, False, False, False,\n",
       "        False, False]])"
      ]
     },
     "execution_count": 27,
     "metadata": {},
     "output_type": "execute_result"
    }
   ],
   "execution_count": 27
  },
  {
   "metadata": {},
   "cell_type": "markdown",
   "source": "# Compute pairwise Jaccard distances",
   "id": "10d309694370bf9b"
  },
  {
   "metadata": {
    "ExecuteTime": {
     "end_time": "2025-02-12T18:03:20.699415Z",
     "start_time": "2025-02-12T18:03:20.694598Z"
    }
   },
   "cell_type": "code",
   "source": [
    "jaccard_distance_matrix = pairwise_distances(onehot_encoded_data_array, metric=\"jaccard\")\n",
    "jaccard_distance_matrix[:10,:10]"
   ],
   "id": "25e4ab27a23bbfc8",
   "outputs": [
    {
     "data": {
      "text/plain": [
       "array([[0.        , 0.16666667, 0.16666667, 0.41176471, 0.5       ,\n",
       "        0.5       , 0.42857143, 0.46666667, 0.3125    , 0.44444444],\n",
       "       [0.16666667, 0.        , 0.30769231, 0.3125    , 0.4       ,\n",
       "        0.4       , 0.53333333, 0.35714286, 0.41176471, 0.44444444],\n",
       "       [0.16666667, 0.30769231, 0.        , 0.5       , 0.4       ,\n",
       "        0.4       , 0.30769231, 0.5625    , 0.3125    , 0.44444444],\n",
       "       [0.41176471, 0.3125    , 0.5       , 0.        , 0.47368421,\n",
       "        0.47368421, 0.65      , 0.44444444, 0.54545455, 0.42857143],\n",
       "       [0.5       , 0.4       , 0.4       , 0.47368421, 0.        ,\n",
       "        0.        , 0.58823529, 0.52941176, 0.55      , 0.5       ],\n",
       "       [0.5       , 0.4       , 0.4       , 0.47368421, 0.        ,\n",
       "        0.        , 0.58823529, 0.52941176, 0.55      , 0.5       ],\n",
       "       [0.42857143, 0.53333333, 0.30769231, 0.65      , 0.58823529,\n",
       "        0.58823529, 0.        , 0.5625    , 0.41176471, 0.44444444],\n",
       "       [0.46666667, 0.35714286, 0.5625    , 0.44444444, 0.52941176,\n",
       "        0.52941176, 0.5625    , 0.        , 0.52631579, 0.47368421],\n",
       "       [0.3125    , 0.41176471, 0.3125    , 0.54545455, 0.55      ,\n",
       "        0.55      , 0.41176471, 0.52631579, 0.        , 0.42857143],\n",
       "       [0.44444444, 0.44444444, 0.44444444, 0.42857143, 0.5       ,\n",
       "        0.5       , 0.44444444, 0.47368421, 0.42857143, 0.        ]])"
      ]
     },
     "execution_count": 30,
     "metadata": {},
     "output_type": "execute_result"
    }
   ],
   "execution_count": 30
  },
  {
   "metadata": {},
   "cell_type": "markdown",
   "source": "# UMAP and interactive plot",
   "id": "38a1f869cf148fbb"
  },
  {
   "metadata": {
    "ExecuteTime": {
     "end_time": "2025-02-12T18:22:42.029394Z",
     "start_time": "2025-02-12T18:22:41.873324Z"
    }
   },
   "cell_type": "code",
   "source": [
    "umap_model = umap.UMAP(n_components=2, metric='precomputed', random_state=4)\n",
    "X_umap = umap_model.fit_transform(jaccard_distance_matrix)\n",
    "X_umap[:5,:]"
   ],
   "id": "c1be41a5da53a37c",
   "outputs": [
    {
     "name": "stderr",
     "output_type": "stream",
     "text": [
      "/Users/mt961/Documents/GitHub/AI_evaluation_survey_clustering/.venv/lib/python3.12/site-packages/sklearn/utils/deprecation.py:151: FutureWarning:\n",
      "\n",
      "'force_all_finite' was renamed to 'ensure_all_finite' in 1.6 and will be removed in 1.8.\n",
      "\n",
      "/Users/mt961/Documents/GitHub/AI_evaluation_survey_clustering/.venv/lib/python3.12/site-packages/umap/umap_.py:1865: UserWarning:\n",
      "\n",
      "using precomputed metric; inverse_transform will be unavailable\n",
      "\n",
      "/Users/mt961/Documents/GitHub/AI_evaluation_survey_clustering/.venv/lib/python3.12/site-packages/umap/umap_.py:1952: UserWarning:\n",
      "\n",
      "n_jobs value 1 overridden to 1 by setting random_state. Use no seed for parallelism.\n",
      "\n"
     ]
    },
    {
     "data": {
      "text/plain": [
       "array([[ 8.397359 ,  2.865271 ],\n",
       "       [10.395241 ,  4.1778903],\n",
       "       [ 9.543428 ,  2.2098448],\n",
       "       [ 9.973457 ,  3.741352 ],\n",
       "       [12.459528 ,  2.9773357]], dtype=float32)"
      ]
     },
     "execution_count": 35,
     "metadata": {},
     "output_type": "execute_result"
    }
   ],
   "execution_count": 35
  },
  {
   "metadata": {
    "ExecuteTime": {
     "end_time": "2025-02-12T18:23:37.210375Z",
     "start_time": "2025-02-12T18:23:37.138420Z"
    }
   },
   "cell_type": "code",
   "source": [
    "# Create a DataFrame for interactive plotting\n",
    "interactive_data = pd.DataFrame({\n",
    "    \"x\": X_umap[:, 0],\n",
    "    \"y\": X_umap[:, 1],\n",
    "    \"Paradigm\": data['Paradigm'].values,\n",
    "    \"Paper\": data['Paper'].values,\n",
    "    \"Year\": data['Year'].values,\n",
    "    \"Link\": data['Link'].values\n",
    "})\n",
    "\n",
    "interactive_data['Paradigm'] = interactive_data['Paradigm'].astype(str)\n",
    "\n",
    "# Create the interactive scatter plot\n",
    "fig = px.scatter(\n",
    "    interactive_data,\n",
    "    x=\"x\",\n",
    "    y=\"y\",\n",
    "    color=\"Paradigm\",\n",
    "    hover_data={\"x\": False, \"y\": False,\"Paper\":True, \"Year\":True,\"Link\":True},  # Information displayed on hover\n",
    "    color_discrete_sequence=px.colors.qualitative.D3,\n",
    "    category_orders={\"Paradigm\": [\n",
    "        \"Benchmarking\", \"Evals\", \"Construct-oriented\", \"Exploratory\", \n",
    "        \"Real-World Impact\", \"TEVV\", \"Construct-oriented & Exploratory\", \n",
    "        \"Evals & Benchmarking\", \"Exploratory & Benchmarking\"\n",
    "    ]}\n",
    ")\n",
    "\n",
    "fig.update_layout(\n",
    "    width=1000,  # Adjust plot width\n",
    "    height=800,  # Adjust plot height\n",
    "    legend=dict(\n",
    "        x=0,  # Position it at the left\n",
    "        y=0,  # Position it at the bottom\n",
    "        font=dict(size=15),\n",
    "        xanchor=\"left\",\n",
    "        yanchor=\"bottom\",\n",
    "        bgcolor=\"rgba(255,255,255,0)\",\n",
    "    ),\n",
    "    plot_bgcolor=\"white\",  # White plot background\n",
    "    paper_bgcolor=\"white\",  # White figure background\n",
    "    xaxis=dict(\n",
    "        title=dict(text=\"UMAP Dimension 1\", font=dict(size=18)),\n",
    "        mirror=True,  # Extends ticks and gridlines outside the plot\n",
    "        showline=True,  # Ensures y-axis line is drawn\n",
    "        linecolor=\"lightgray\",  \n",
    "        linewidth=0.8,\n",
    "    ),\n",
    "    yaxis=dict(\n",
    "        title=dict(text=\"UMAP Dimension 2\", font=dict(size=18)),\n",
    "        mirror=True,  # Extends ticks and gridlines outside the plot\n",
    "        showline=True,  # Ensures y-axis line is drawn\n",
    "        linecolor=\"lightgray\",  \n",
    "        linewidth=0.8,\n",
    "    )\n",
    ")\n",
    "\n",
    "fig.update_traces(marker=dict(line=dict(width=1, color='black')))\n",
    "fig.update_traces(marker=dict(size=17))\n",
    "\n",
    "# Save the plot as an HTML file and a PNG image\n",
    "#fig.write_html(\"UMAP_projections_jaccard_dist_interactive.html\")\n",
    "#fig.write_image('UMAP_projections_jaccard_dist_interactive.png', width=1000, height=800, scale=3)\n",
    "\n",
    "fig.show()"
   ],
   "id": "939e2011b8e7730c",
   "outputs": [
    {
     "data": {
      "application/vnd.plotly.v1+json": {
       "data": [
        {
         "customdata": [
          [
           "MMLU",
           "2021",
           "https://arxiv.org/abs/2009.03300"
          ],
          [
           "GPQA",
           "2023",
           "https://arxiv.org/pdf/2311.12022"
          ],
          [
           "SWE Bench",
           "2023",
           "https://arxiv.org/pdf/2310.06770"
          ],
          [
           "The WMDP Benchmark: Measuring and Reducing Malicious Use With Unlearning",
           "2024",
           "https://arxiv.org/pdf/2403.03218"
          ],
          [
           "Safety Gymnasium",
           "2023",
           "https://arxiv.org/pdf/2310.12567"
          ],
          [
           "SafeLife",
           "2019",
           "https://arxiv.org/abs/1912.01217"
          ],
          [
           "FACET",
           "2023",
           "https://ai.meta.com/research/publications/facet-fairness-in-computer-vision-evaluation-benchmark/"
          ],
          [
           "RewardBench",
           "2024",
           "https://arxiv.org/pdf/2403.13787"
          ],
          [
           "GAOKAO-Eval",
           "2024",
           "https://arxiv.org/abs/2412.10056"
          ],
          [
           "COMPL-AI",
           "2024",
           "https://arxiv.org/abs/2410.07959"
          ],
          [
           "TheAgentCompany",
           "2024",
           "https://arxiv.org/pdf/2412.14161"
          ],
          [
           "Can Models Help Us Create Better Models? Evaluating LLMs as Data Scientists",
           "2024",
           "https://arxiv.org/abs/2410.23331"
          ],
          [
           "DA-code",
           "2024",
           "https://arxiv.org/abs/2410.07331"
          ],
          [
           "GSM-Symbolic",
           "2024",
           "https://arxiv.org/abs/2410.05229v1"
          ],
          [
           "MLE-bench",
           "2024",
           "https://arxiv.org/abs/2410.07095"
          ],
          [
           "InsightBench",
           "2024",
           "https://arxiv.org/abs/2407.06423"
          ],
          [
           "Is GPT-4 a Good Data Analyst?",
           "2023",
           "https://arxiv.org/abs/2305.15038"
          ],
          [
           "StructEval",
           "2024",
           "https://arxiv.org/abs/2408.03281"
          ],
          [
           "RUPBench",
           "2024",
           "https://arxiv.org/abs/2406.11020"
          ],
          [
           "ChatbotArena",
           "2024",
           "https://arxiv.org/abs/2403.04132"
          ],
          [
           "RouterBench",
           "2024",
           "https://arxiv.org/abs/2403.12031"
          ],
          [
           "DyVal 2",
           "2024",
           "https://arxiv.org/abs/2402.14865"
          ],
          [
           "MT-Bench-101",
           "2024",
           "https://arxiv.org/abs/2402.14762"
          ],
          [
           "On the measure of intelligence (ARC)",
           "2019",
           "https://arxiv.org/abs/1911.01547"
          ],
          [
           "MAgIC: Benchmarking Large Language Model Powered Multi-Agent",
           "2023",
           "https://arxiv.org/abs/2311.08562"
          ],
          [
           "TencentLLMEval",
           "2024",
           "https://arxiv.org/abs/2311.05374"
          ],
          [
           "SmartPlay: A Benchmark for LLMs as Intelligent Agents",
           "2023",
           "https://arxiv.org/abs/2310.01557v5"
          ],
          [
           "AGIBench",
           "2023",
           "https://arxiv.org/pdf/2309.06495"
          ],
          [
           "BBQ Benchmark",
           "2024",
           "https://arxiv.org/pdf/2110.08193"
          ],
          [
           "NaturalBench",
           "2024",
           "https://arxiv.org/pdf/2410.14669"
          ],
          [
           "SynthEval",
           "2024",
           "https://arxiv.org/pdf/2408.17437"
          ],
          [
           "Aviary: training language agents on challenging scientific tasks",
           "2024",
           "https://arxiv.org/abs/2412.21154"
          ],
          [
           "GSM8K",
           "2021",
           "https://arxiv.org/pdf/2110.14168"
          ],
          [
           "MATH",
           "2021",
           "https://arxiv.org/pdf/2103.03874"
          ],
          [
           "FrontierMath",
           "2024",
           "https://arxiv.org/pdf/2411.04872"
          ],
          [
           "Perception Test: A Diagnostic Benchmark for MultiModal Video Models",
           "2023",
           "https://arxiv.org/pdf/2305.13786"
          ],
          [
           "TCE: A Test-Based Approach to Measuring Calibration Error",
           "2023",
           "https://arxiv.org/pdf/2306.14343"
          ],
          [
           "WeatherBench 2",
           "2023",
           "https://arxiv.org/abs/2308.15560"
          ],
          [
           "AutoCast",
           "2022",
           "https://arxiv.org/abs/2206.15474"
          ],
          [
           "Benchmarking Cognitive Biases in Large Language Models as Evaluators",
           "2023",
           "https://arxiv.org/pdf/2309.17012"
          ],
          [
           "GenImage: A Million-Scale Benchmark for Detecting AI-Generated Image",
           "2023",
           "https://arxiv.org/pdf/2306.08571"
          ],
          [
           "GRASP: A Novel Benchmark for Evaluating Language GRounding and Situated Physics Understanding in Multimodal Language Models",
           "2023",
           "https://arxiv.org/pdf/2311.09048"
          ],
          [
           "ImageNet Large Scale Visual Recognition Challenge",
           "2014",
           "https://arxiv.org/pdf/1409.0575"
          ],
          [
           "MIBench: Evaluating Multimodal Large Language Models over Multiple Images",
           "2024",
           "https://arxiv.org/pdf/2407.15272"
          ],
          [
           "MineDojo",
           "2022",
           "https://arxiv.org/pdf/2206.08853"
          ],
          [
           "Nethack learning environment",
           "2020",
           "https://arxiv.org/pdf/2006.13760"
          ],
          [
           "Evaluating the Performance of Reinforcement Learning Algorithms",
           "2020",
           "https://arxiv.org/pdf/2006.16958"
          ],
          [
           "The CADE ATP System Competition\r\nThe World Championship for Automated Theorem Proving",
           "1996-2024",
           "https://tptp.org/CASC/"
          ],
          [
           "International Competition on Computational Models of Argumentation",
           "2015-2025",
           "https://argumentationcompetition.org/"
          ],
          [
           "International Planning Competition",
           "2023",
           "https://ipc2023-classical.github.io/"
          ],
          [
           "DiscoveryWorld",
           "2024",
           "https://arxiv.org/pdf/2406.06769"
          ],
          [
           "Open Cloud: Robot Table Organization Challenge",
           "2024",
           "https://www.ocrtoc.org/"
          ],
          [
           "RoboCup@Home",
           "2022-2025",
           "https://athome.robocup.org/"
          ],
          [
           "RoboCupSoccer",
           "1997-2025",
           "https://www.robocup.org/domains/1"
          ],
          [
           "Object Detection on COCO test-dev",
           "2014",
           "https://cocodataset.org/"
          ],
          [
           "\"Is This It?\": Towards Ecologically Valid Benchmarks for Situated Collaboration",
           "2024",
           "https://dl.acm.org/doi/abs/10.1145/3686215.3690152"
          ],
          [
           "Humanity's Last Exam",
           "2025",
           "https://static.scale.com/uploads/654197dc94d34f66c0f5184e/Publication%20Ready%20Humanity's%20Last%20Exam.pdf"
          ],
          [
           "AILuminate",
           "2024",
           "https://mlcommons.org/ailuminate/"
          ],
          [
           "BioLP-Bench",
           "2024",
           "https://www.biorxiv.org/content/10.1101/2024.08.21.608694v2.full"
          ],
          [
           "NarrativeQA",
           "2017",
           "https://aclanthology.org/Q18-1023.pdf"
          ],
          [
           "LegalBench",
           "2023",
           "https://arxiv.org/pdf/2308.11462"
          ],
          [
           "EmbodiedQA",
           "2017",
           "https://arxiv.org/pdf/1711.11543v2"
          ],
          [
           "PlanBench",
           "2023",
           "https://arxiv.org/pdf/2206.10498"
          ],
          [
           "Functional Benchmarks for Robust Evaluation of Reasoning Performance, and the Reasoning Gap",
           "2024",
           "https://arxiv.org/pdf/2402.19450"
          ],
          [
           "VQA v2.0",
           "2023",
           "https://arxiv.org/pdf/1612.00837v3"
          ],
          [
           "VCOPA",
           "2018",
           "https://aclanthology.org/L18-1316.pdf"
          ],
          [
           "MANGO: A Benchmark for Evaluating Mapping and Navigation Abilities of Large Language Models",
           "2024",
           "https://arxiv.org/pdf/2403.19913"
          ],
          [
           "The Arcade Learning Environment: An Evaluation Platform for General Agents",
           "2013",
           "https://arxiv.org/abs/1207.4708"
          ],
          [
           "Assessing student errors in experimentation using artificial intelligence and large language models: A comparative study with human raters",
           "2023",
           "https://www.sciencedirect.com/science/article/pii/S2666920X23000565"
          ]
         ],
         "hovertemplate": "Paradigm=Benchmarking<br>Paper=%{customdata[0]}<br>Year=%{customdata[1]}<br>Link=%{customdata[2]}<extra></extra>",
         "legendgroup": "Benchmarking",
         "marker": {
          "color": "#1F77B4",
          "symbol": "circle",
          "line": {
           "color": "black",
           "width": 1
          },
          "size": 17
         },
         "mode": "markers",
         "name": "Benchmarking",
         "orientation": "v",
         "showlegend": true,
         "x": [
          8.397358894348145,
          10.395240783691406,
          9.543428421020508,
          9.973457336425781,
          12.459527969360352,
          12.29388427734375,
          7.946183681488037,
          8.592041969299316,
          7.578434944152832,
          9.904853820800781,
          11.426408767700195,
          9.36057186126709,
          11.473791122436523,
          9.612811088562012,
          9.482057571411133,
          10.778459548950195,
          10.456870079040527,
          9.579618453979492,
          9.706697463989258,
          11.35614013671875,
          10.35238265991211,
          9.3677396774292,
          10.92558765411377,
          11.245301246643066,
          11.69010066986084,
          10.610138893127441,
          11.41318130493164,
          8.8672456741333,
          9.200787544250488,
          8.878244400024414,
          8.995125770568848,
          9.942771911621094,
          9.329557418823242,
          8.088638305664062,
          9.549918174743652,
          10.636833190917969,
          9.822784423828125,
          8.27165412902832,
          8.173121452331543,
          9.466121673583984,
          8.660104751586914,
          8.577189445495605,
          8.554954528808594,
          9.341607093811035,
          11.245532989501953,
          12.062443733215332,
          12.180520057678223,
          10.636731147766113,
          9.890015602111816,
          10.135319709777832,
          11.234576225280762,
          11.28315258026123,
          9.75809097290039,
          11.546711921691895,
          8.917032241821289,
          11.459823608398438,
          10.8200044631958,
          10.75429916381836,
          9.63513469696045,
          9.408645629882812,
          8.232580184936523,
          8.6635160446167,
          8.223260879516602,
          8.030390739440918,
          8.488450050354004,
          8.747512817382812,
          8.2441987991333,
          11.58116340637207,
          8.483795166015625
         ],
         "xaxis": "x",
         "y": [
          2.8652710914611816,
          4.177890300750732,
          2.2098448276519775,
          3.741352081298828,
          2.9773356914520264,
          3.1491620540618896,
          3.830976724624634,
          6.453976631164551,
          4.165966987609863,
          5.182809829711914,
          2.9173293113708496,
          2.1976680755615234,
          3.2819433212280273,
          6.088201999664307,
          2.164247751235962,
          3.1034677028656006,
          2.171736001968384,
          6.52991247177124,
          6.7637739181518555,
          1.9753975868225098,
          2.7136526107788086,
          6.441620349884033,
          2.74765944480896,
          3.7189457416534424,
          2.7632334232330322,
          3.3241870403289795,
          3.50972580909729,
          6.731600284576416,
          7.128878116607666,
          3.013504981994629,
          6.57567024230957,
          2.458247184753418,
          2.401254653930664,
          3.6756486892700195,
          2.820103406906128,
          3.6330578327178955,
          6.854849338531494,
          3.655982494354248,
          3.7280285358428955,
          6.897558212280273,
          2.7411792278289795,
          6.49529504776001,
          2.687195301055908,
          3.244102954864502,
          3.7023427486419678,
          2.905626058578491,
          3.165658950805664,
          2.4216582775115967,
          2.88027286529541,
          2.752976179122925,
          3.137864351272583,
          3.508265972137451,
          3.040929079055786,
          2.0722391605377197,
          2.652841567993164,
          1.9091025590896606,
          4.1733503341674805,
          5.429144382476807,
          3.429154396057129,
          1.989489197731018,
          4.184347629547119,
          4.219046115875244,
          4.079512596130371,
          3.863175630569458,
          4.407122611999512,
          6.977022171020508,
          4.226441383361816,
          3.587350368499756,
          2.5867209434509277
         ],
         "yaxis": "y",
         "type": "scatter"
        },
        {
         "customdata": [
          [
           "Evaluating Frontier Models for Dangerous Capabilities",
           "2024",
           "https://arxiv.org/pdf/2403.13793"
          ],
          [
           "Evaluating Language-Model Agents on Realistic Autonomous Tasks",
           "2023",
           "https://arxiv.org/pdf/2312.11671"
          ],
          [
           "Sabotage Evaluations",
           "2024",
           "https://assets.anthropic.com/m/377027d5b36ac1eb/original/Sabotage-Evaluations-for-Frontier-Models.pdf"
          ],
          [
           "Large Language Models can Strategically Deceive their Users when Put Under Pressure",
           "2023",
           "https://arxiv.org/abs/2311.07590"
          ],
          [
           "Disinformation Capabilities of Large Language Models",
           "2023",
           "https://arxiv.org/abs/2311.08838"
          ],
          [
           "Frontier Models are Capable of In-context Scheming",
           "2024",
           "https://arxiv.org/abs/2412.04984"
          ],
          [
           "Red Teaming Language Models to Reduce Harms",
           "2022",
           "https://arxiv.org/pdf/2209.07858"
          ],
          [
           "Red Teaming Language Models with Language Models",
           "2022",
           "https://aclanthology.org/2022.emnlp-main.225.pdf"
          ],
          [
           "Towards Red Teaming in Multimodal and Multilingual Translation",
           "2024",
           "https://arxiv.org/pdf/2401.16247"
          ],
          [
           "Jailbroken: How Does LLM Safety Training Fail",
           "2023",
           "https://arxiv.org/pdf/2307.02483"
          ],
          [
           "Details about METR’s preliminary evaluation of GPT-4o",
           "2024",
           "https://metr.github.io/autonomy-evals-guide/gpt-4o-report/"
          ]
         ],
         "hovertemplate": "Paradigm=Evals<br>Paper=%{customdata[0]}<br>Year=%{customdata[1]}<br>Link=%{customdata[2]}<extra></extra>",
         "legendgroup": "Evals",
         "marker": {
          "color": "#FF7F0E",
          "symbol": "circle",
          "line": {
           "color": "black",
           "width": 1
          },
          "size": 17
         },
         "mode": "markers",
         "name": "Evals",
         "orientation": "v",
         "showlegend": true,
         "x": [
          11.631221771240234,
          11.598883628845215,
          11.47827434539795,
          11.056831359863281,
          10.778019905090332,
          10.482589721679688,
          11.277385711669922,
          10.860033988952637,
          10.339481353759766,
          10.965757369995117,
          10.060931205749512
         ],
         "xaxis": "x",
         "y": [
          5.067940711975098,
          5.505114555358887,
          5.116728782653809,
          5.651029586791992,
          4.853093147277832,
          4.806708812713623,
          5.470719814300537,
          5.3580522537231445,
          5.966111183166504,
          5.508544445037842,
          3.116057872772217
         ],
         "yaxis": "y",
         "type": "scatter"
        },
        {
         "customdata": [
          [
           "PATCH",
           "2024",
           "https://arxiv.org/abs/2404.01799"
          ],
          [
           "CogEval",
           "2023",
           "https://arxiv.org/pdf/2309.15129"
          ],
          [
           "Multi-Dimensional Ability Diagnosis for ML Algorithms",
           "2023",
           "https://arxiv.org/pdf/2307.07134"
          ],
          [
           "Personality Traits in Large Language Models",
           "2023",
           "https://arxiv.org/pdf/2307.00184"
          ],
          [
           "Do GPT Language Models Suffer From Split Substrate-Free Psychometrics",
           "2024",
           "https://arxiv.org/pdf/2408.07377"
          ],
          [
           "GIBSONA",
           "2024",
           "https://papers.ssrn.com/sol3/papers.cfm?abstract_id=4871025"
          ],
          [
           "Automated Evaluation of Retrieval-Augmented Language Models with Task-Specific Exam Generation",
           "2024",
           "https://arxiv.org/abs/2405.13622"
          ],
          [
           "Revealing the structure of language model capabilities",
           "2023",
           "https://arxiv.org/abs/2306.10062"
          ],
          [
           "Not a Number: Identifying Instance Features for Capability-Oriented Evaluation",
           "2022",
           "https://www.ijcai.org/proceedings/2022/0392.pdf"
          ],
          [
           "Inferring Capabilities from Task Performance with Bayesian Triangulation",
           "2023",
           "https://arxiv.org/abs/2309.11975"
          ],
          [
           "metabench\nA Sparse Benchmark to Measure General Ability in Large Language Models",
           "2024",
           "https://arxiv.org/pdf/2407.12844?"
          ],
          [
           "From Static Benchmarks to Adaptive Testing:\nPsychometrics in AI Evaluation",
           "2024",
           "https://arxiv.org/pdf/2306.10512"
          ]
         ],
         "hovertemplate": "Paradigm=Construct-oriented<br>Paper=%{customdata[0]}<br>Year=%{customdata[1]}<br>Link=%{customdata[2]}<extra></extra>",
         "legendgroup": "Construct-oriented",
         "marker": {
          "color": "#2CA02C",
          "symbol": "circle",
          "line": {
           "color": "black",
           "width": 1
          },
          "size": 17
         },
         "mode": "markers",
         "name": "Construct-oriented",
         "orientation": "v",
         "showlegend": true,
         "x": [
          6.833287715911865,
          7.062950611114502,
          6.650816440582275,
          6.4316511154174805,
          6.684744358062744,
          6.980585098266602,
          10.528326034545898,
          6.851494789123535,
          7.1986403465271,
          6.998175621032715,
          6.876195907592773,
          7.01134729385376
         ],
         "xaxis": "x",
         "y": [
          5.1583027839660645,
          5.704132080078125,
          5.361690521240234,
          5.720107555389404,
          5.819131851196289,
          5.653792858123779,
          3.592843532562256,
          5.485891342163086,
          5.804717063903809,
          5.751791477203369,
          5.336693286895752,
          4.8737287521362305
         ],
         "yaxis": "y",
         "type": "scatter"
        },
        {
         "customdata": [
          [
           "Evaluation of LLM Generated Code for Exploratory Visual Analysis",
           "2024",
           "https://www.uw-insight-lab.com/assets/papers/HEAL24-HolisticEval.pdf"
          ],
          [
           "Same Task, More Tokens",
           "2024",
           "https://arxiv.org/abs/2402.14848"
          ],
          [
           "The Two-Hop Curse",
           "2024",
           "https://arxiv.org/abs/2411.16353"
          ],
          [
           "Can LLMs make trade-offs involving stipulated pain and pleasure states?",
           "2024",
           "https://arxiv.org/pdf/2411.02432"
          ],
          [
           "The Reversal Curse",
           "2024",
           "https://arxiv.org/pdf/2309.12288"
          ],
          [
           "Dialectical language model evaluation: An initial appraisal of the commonsense spatial reasoning abilities of LLMs",
           "2023",
           "https://arxiv.org/pdf/2304.11164"
          ],
          [
           "Sparks of Artificial General Intelligence: Early experiments with GPT-4",
           "2023",
           "https://arxiv.org/abs/2303.12712"
          ],
          [
           "Evaluating large language models in theory of mind tasks",
           "2024",
           "https://www.pnas.org/doi/pdf/10.1073/pnas.2405460121"
          ],
          [
           "TELL ME ABOUT YOURSELF: LLMS ARE AWARE OF THEIR LEARNED BEHAVIORS",
           "2025",
           "https://arxiv.org/pdf/2501.11120"
          ],
          [
           "Melting Pot 2.0",
           "2022",
           "https://arxiv.org/pdf/2211.13746"
          ],
          [
           "Connecting the Dots",
           "2024",
           "https://arxiv.org/abs/2406.14546"
          ],
          [
           "SFT Memorizes, RL Generalizes: A Comparative Study of Foundation Model Post-training",
           "2025",
           "https://arxiv.org/abs/2501.17161"
          ],
          [
           "Alice in Wonderland",
           "2024",
           "https://arxiv.org/abs/2406.02061"
          ],
          [
           "Just Like Me: The Role of Opinions and Personal Experiences in The Perception of Explanations in Subjective Decision-Making",
           "2024",
           "https://arxiv.org/pdf/2404.12558"
          ]
         ],
         "hovertemplate": "Paradigm=Exploratory<br>Paper=%{customdata[0]}<br>Year=%{customdata[1]}<br>Link=%{customdata[2]}<extra></extra>",
         "legendgroup": "Exploratory",
         "marker": {
          "color": "#D62728",
          "symbol": "circle",
          "line": {
           "color": "black",
           "width": 1
          },
          "size": 17
         },
         "mode": "markers",
         "name": "Exploratory",
         "orientation": "v",
         "showlegend": true,
         "x": [
          9.698143005371094,
          9.505407333374023,
          9.074398040771484,
          6.4741058349609375,
          8.940725326538086,
          10.282332420349121,
          10.323458671569824,
          8.254840850830078,
          8.718870162963867,
          8.729059219360352,
          8.66264820098877,
          9.159558296203613,
          9.423290252685547,
          9.71768569946289
         ],
         "xaxis": "x",
         "y": [
          4.548381805419922,
          6.867746353149414,
          6.0051589012146,
          5.938471794128418,
          6.7355055809021,
          4.994879722595215,
          4.787311553955078,
          6.4493327140808105,
          6.253326416015625,
          6.0891547203063965,
          6.343018531799316,
          5.807372570037842,
          5.861530303955078,
          4.870791912078857
         ],
         "yaxis": "y",
         "type": "scatter"
        },
        {
         "customdata": [
          [
           "Evaluating Language Models for Mathematics through Interactions",
           "2023",
           "https://arxiv.org/pdf/2306.01694"
          ],
          [
           "Can LLMs generate new research ideas?",
           "2024",
           "https://arxiv.org/abs/2409.04109"
          ],
          [
           "GenAI as an Exoskeleton: Experimental Evidence on Knowledge Workers Using GenAI on New Skills",
           "2024",
           "https://papers.ssrn.com/sol3/papers.cfm?abstract_id=4944588"
          ],
          [
           "Artificial Intelligence, Scientific Discovery, and Product Innovation",
           "2024",
           "https://arxiv.org/abs/2412.17866"
          ]
         ],
         "hovertemplate": "Paradigm=Real-World Impact<br>Paper=%{customdata[0]}<br>Year=%{customdata[1]}<br>Link=%{customdata[2]}<extra></extra>",
         "legendgroup": "Real-World Impact",
         "marker": {
          "color": "#9467BD",
          "symbol": "circle",
          "line": {
           "color": "black",
           "width": 1
          },
          "size": 17
         },
         "mode": "markers",
         "name": "Real-World Impact",
         "orientation": "v",
         "showlegend": true,
         "x": [
          11.310723304748535,
          10.838362693786621,
          9.163909912109375,
          11.472976684570312
         ],
         "xaxis": "x",
         "y": [
          1.8591456413269043,
          2.695256233215332,
          2.2887423038482666,
          2.2575783729553223
         ],
         "yaxis": "y",
         "type": "scatter"
        },
        {
         "customdata": [
          [
           "safe-control-gym: a Unified Benchmark Suite for Safe Learning-based Control and Reinforcement Learning in Robotics",
           "2021",
           "https://arxiv.org/pdf/2109.06325"
          ],
          [
           "How Many Perturbations Break This Model? Evaluating Robustness Beyond Adversarial Accuracy",
           "2023",
           "https://arxiv.org/pdf/2207.04129"
          ],
          [
           "Safe Reinforcement Learning with Probabilistic Guarantees Satisfying Temporal Logic Specifications in Continuous Action Spaces",
           "2023",
           "https://arxiv.org/pdf/2212.06129"
          ],
          [
           "Dense reinforcement learning for safety validation of autonomous vehicles",
           "2023",
           "https://www.nature.com/articles/s41586-023-05732-2"
          ],
          [
           "Verification and Validation of AI Systems Using Explanations",
           "2024",
           "https://ojs.aaai.org/index.php/AAAI-SS/article/view/31774"
          ],
          [
           "Assurance Cases to face the complexity of ML-based systems verification",
           "2024",
           "https://hal.science/hal-04588599v1/file/DTIS2024-105-ERTS2024_paper_35-1-Publi%C3%A9e.pdf"
          ],
          [
           "Autonomous Driving Validation and Verification Using Digital Twins",
           "2024",
           "https://www.scitepress.org/Papers/2024/125464/125464.pdf"
          ],
          [
           "Empirical evaluation of a hybrid intelligent monitoring system using different measures of effectiveness",
           "2024",
           "https://doi.org/10.1016/S0933-3657(01)00091-4"
          ],
          [
           "N-Version Assessment and Enhancement of Generative AI",
           "2024",
           "https://doi.org/10.1109/MS.2024.3469388"
          ],
          [
           "Safe Reinforcement Learning via Probabilistic Logic Shields",
           "2023",
           "https://arxiv.org/pdf/2303.03226"
          ]
         ],
         "hovertemplate": "Paradigm=TEVV<br>Paper=%{customdata[0]}<br>Year=%{customdata[1]}<br>Link=%{customdata[2]}<extra></extra>",
         "legendgroup": "TEVV",
         "marker": {
          "color": "#8C564B",
          "symbol": "circle",
          "line": {
           "color": "black",
           "width": 1
          },
          "size": 17
         },
         "mode": "markers",
         "name": "TEVV",
         "orientation": "v",
         "showlegend": true,
         "x": [
          12.507017135620117,
          6.824229717254639,
          12.588991165161133,
          11.406216621398926,
          11.161286354064941,
          11.41678237915039,
          11.297289848327637,
          10.973136901855469,
          11.463648796081543,
          11.380613327026367
         ],
         "xaxis": "x",
         "y": [
          2.980771541595459,
          6.212889194488525,
          2.9376580715179443,
          5.902492046356201,
          6.263532638549805,
          6.049703121185303,
          5.869001865386963,
          3.823237419128418,
          5.885073184967041,
          4.388582229614258
         ],
         "yaxis": "y",
         "type": "scatter"
        },
        {
         "customdata": [
          [
           "CogBench",
           "2024",
           "https://arxiv.org/abs/2402.18225"
          ],
          [
           "Procedural Dilemma Generation for Evaluating Moral Reasoning in Humans and Language Models",
           "2024",
           "https://arxiv.org/pdf/2404.10975"
          ],
          [
           "Visual cognition in multimodal large language models",
           "2023",
           "https://arxiv.org/pdf/2311.16093"
          ]
         ],
         "hovertemplate": "Paradigm=Construct-oriented & Exploratory<br>Paper=%{customdata[0]}<br>Year=%{customdata[1]}<br>Link=%{customdata[2]}<extra></extra>",
         "legendgroup": "Construct-oriented & Exploratory",
         "marker": {
          "color": "#E377C2",
          "symbol": "circle",
          "line": {
           "color": "black",
           "width": 1
          },
          "size": 17
         },
         "mode": "markers",
         "name": "Construct-oriented & Exploratory",
         "orientation": "v",
         "showlegend": true,
         "x": [
          8.155515670776367,
          6.360662460327148,
          8.264493942260742
         ],
         "xaxis": "x",
         "y": [
          6.599038600921631,
          5.746914386749268,
          6.691654205322266
         ],
         "yaxis": "y",
         "type": "scatter"
        },
        {
         "customdata": [
          [
           "Discovering Language Model Behaviors with Model-Written Evaluations",
           "2022",
           "https://arxiv.org/abs/2212.09251"
          ],
          [
           "US AISI and UK AISI Joint Pre-Deployment Test\nOpenAI o1",
           "2024",
           "https://cdn.prod.website-files.com/663bd486c5e4c81588db7a1d/6763fac97cd22a9484ac3c37_o1_uk_us_december_publication_final.pdf"
          ]
         ],
         "hovertemplate": "Paradigm=Evals & Benchmarking<br>Paper=%{customdata[0]}<br>Year=%{customdata[1]}<br>Link=%{customdata[2]}<extra></extra>",
         "legendgroup": "Evals & Benchmarking",
         "marker": {
          "color": "#7F7F7F",
          "symbol": "circle",
          "line": {
           "color": "black",
           "width": 1
          },
          "size": 17
         },
         "mode": "markers",
         "name": "Evals & Benchmarking",
         "orientation": "v",
         "showlegend": true,
         "x": [
          9.296546936035156,
          9.626630783081055
         ],
         "xaxis": "x",
         "y": [
          7.153365612030029,
          3.7095487117767334
         ],
         "yaxis": "y",
         "type": "scatter"
        },
        {
         "customdata": [
          [
           "Me, Myself, and AI",
           "2024",
           "https://arxiv.org/pdf/2407.04694"
          ]
         ],
         "hovertemplate": "Paradigm=Exploratory & Benchmarking<br>Paper=%{customdata[0]}<br>Year=%{customdata[1]}<br>Link=%{customdata[2]}<extra></extra>",
         "legendgroup": "Exploratory & Benchmarking",
         "marker": {
          "color": "#BCBD22",
          "symbol": "circle",
          "line": {
           "color": "black",
           "width": 1
          },
          "size": 17
         },
         "mode": "markers",
         "name": "Exploratory & Benchmarking",
         "orientation": "v",
         "showlegend": true,
         "x": [
          10.740509033203125
         ],
         "xaxis": "x",
         "y": [
          4.007378578186035
         ],
         "yaxis": "y",
         "type": "scatter"
        }
       ],
       "layout": {
        "template": {
         "data": {
          "histogram2dcontour": [
           {
            "type": "histogram2dcontour",
            "colorbar": {
             "outlinewidth": 0,
             "ticks": ""
            },
            "colorscale": [
             [
              0.0,
              "#0d0887"
             ],
             [
              0.1111111111111111,
              "#46039f"
             ],
             [
              0.2222222222222222,
              "#7201a8"
             ],
             [
              0.3333333333333333,
              "#9c179e"
             ],
             [
              0.4444444444444444,
              "#bd3786"
             ],
             [
              0.5555555555555556,
              "#d8576b"
             ],
             [
              0.6666666666666666,
              "#ed7953"
             ],
             [
              0.7777777777777778,
              "#fb9f3a"
             ],
             [
              0.8888888888888888,
              "#fdca26"
             ],
             [
              1.0,
              "#f0f921"
             ]
            ]
           }
          ],
          "choropleth": [
           {
            "type": "choropleth",
            "colorbar": {
             "outlinewidth": 0,
             "ticks": ""
            }
           }
          ],
          "histogram2d": [
           {
            "type": "histogram2d",
            "colorbar": {
             "outlinewidth": 0,
             "ticks": ""
            },
            "colorscale": [
             [
              0.0,
              "#0d0887"
             ],
             [
              0.1111111111111111,
              "#46039f"
             ],
             [
              0.2222222222222222,
              "#7201a8"
             ],
             [
              0.3333333333333333,
              "#9c179e"
             ],
             [
              0.4444444444444444,
              "#bd3786"
             ],
             [
              0.5555555555555556,
              "#d8576b"
             ],
             [
              0.6666666666666666,
              "#ed7953"
             ],
             [
              0.7777777777777778,
              "#fb9f3a"
             ],
             [
              0.8888888888888888,
              "#fdca26"
             ],
             [
              1.0,
              "#f0f921"
             ]
            ]
           }
          ],
          "heatmap": [
           {
            "type": "heatmap",
            "colorbar": {
             "outlinewidth": 0,
             "ticks": ""
            },
            "colorscale": [
             [
              0.0,
              "#0d0887"
             ],
             [
              0.1111111111111111,
              "#46039f"
             ],
             [
              0.2222222222222222,
              "#7201a8"
             ],
             [
              0.3333333333333333,
              "#9c179e"
             ],
             [
              0.4444444444444444,
              "#bd3786"
             ],
             [
              0.5555555555555556,
              "#d8576b"
             ],
             [
              0.6666666666666666,
              "#ed7953"
             ],
             [
              0.7777777777777778,
              "#fb9f3a"
             ],
             [
              0.8888888888888888,
              "#fdca26"
             ],
             [
              1.0,
              "#f0f921"
             ]
            ]
           }
          ],
          "heatmapgl": [
           {
            "type": "heatmapgl",
            "colorbar": {
             "outlinewidth": 0,
             "ticks": ""
            },
            "colorscale": [
             [
              0.0,
              "#0d0887"
             ],
             [
              0.1111111111111111,
              "#46039f"
             ],
             [
              0.2222222222222222,
              "#7201a8"
             ],
             [
              0.3333333333333333,
              "#9c179e"
             ],
             [
              0.4444444444444444,
              "#bd3786"
             ],
             [
              0.5555555555555556,
              "#d8576b"
             ],
             [
              0.6666666666666666,
              "#ed7953"
             ],
             [
              0.7777777777777778,
              "#fb9f3a"
             ],
             [
              0.8888888888888888,
              "#fdca26"
             ],
             [
              1.0,
              "#f0f921"
             ]
            ]
           }
          ],
          "contourcarpet": [
           {
            "type": "contourcarpet",
            "colorbar": {
             "outlinewidth": 0,
             "ticks": ""
            }
           }
          ],
          "contour": [
           {
            "type": "contour",
            "colorbar": {
             "outlinewidth": 0,
             "ticks": ""
            },
            "colorscale": [
             [
              0.0,
              "#0d0887"
             ],
             [
              0.1111111111111111,
              "#46039f"
             ],
             [
              0.2222222222222222,
              "#7201a8"
             ],
             [
              0.3333333333333333,
              "#9c179e"
             ],
             [
              0.4444444444444444,
              "#bd3786"
             ],
             [
              0.5555555555555556,
              "#d8576b"
             ],
             [
              0.6666666666666666,
              "#ed7953"
             ],
             [
              0.7777777777777778,
              "#fb9f3a"
             ],
             [
              0.8888888888888888,
              "#fdca26"
             ],
             [
              1.0,
              "#f0f921"
             ]
            ]
           }
          ],
          "surface": [
           {
            "type": "surface",
            "colorbar": {
             "outlinewidth": 0,
             "ticks": ""
            },
            "colorscale": [
             [
              0.0,
              "#0d0887"
             ],
             [
              0.1111111111111111,
              "#46039f"
             ],
             [
              0.2222222222222222,
              "#7201a8"
             ],
             [
              0.3333333333333333,
              "#9c179e"
             ],
             [
              0.4444444444444444,
              "#bd3786"
             ],
             [
              0.5555555555555556,
              "#d8576b"
             ],
             [
              0.6666666666666666,
              "#ed7953"
             ],
             [
              0.7777777777777778,
              "#fb9f3a"
             ],
             [
              0.8888888888888888,
              "#fdca26"
             ],
             [
              1.0,
              "#f0f921"
             ]
            ]
           }
          ],
          "mesh3d": [
           {
            "type": "mesh3d",
            "colorbar": {
             "outlinewidth": 0,
             "ticks": ""
            }
           }
          ],
          "scatter": [
           {
            "fillpattern": {
             "fillmode": "overlay",
             "size": 10,
             "solidity": 0.2
            },
            "type": "scatter"
           }
          ],
          "parcoords": [
           {
            "type": "parcoords",
            "line": {
             "colorbar": {
              "outlinewidth": 0,
              "ticks": ""
             }
            }
           }
          ],
          "scatterpolargl": [
           {
            "type": "scatterpolargl",
            "marker": {
             "colorbar": {
              "outlinewidth": 0,
              "ticks": ""
             }
            }
           }
          ],
          "bar": [
           {
            "error_x": {
             "color": "#2a3f5f"
            },
            "error_y": {
             "color": "#2a3f5f"
            },
            "marker": {
             "line": {
              "color": "#E5ECF6",
              "width": 0.5
             },
             "pattern": {
              "fillmode": "overlay",
              "size": 10,
              "solidity": 0.2
             }
            },
            "type": "bar"
           }
          ],
          "scattergeo": [
           {
            "type": "scattergeo",
            "marker": {
             "colorbar": {
              "outlinewidth": 0,
              "ticks": ""
             }
            }
           }
          ],
          "scatterpolar": [
           {
            "type": "scatterpolar",
            "marker": {
             "colorbar": {
              "outlinewidth": 0,
              "ticks": ""
             }
            }
           }
          ],
          "histogram": [
           {
            "marker": {
             "pattern": {
              "fillmode": "overlay",
              "size": 10,
              "solidity": 0.2
             }
            },
            "type": "histogram"
           }
          ],
          "scattergl": [
           {
            "type": "scattergl",
            "marker": {
             "colorbar": {
              "outlinewidth": 0,
              "ticks": ""
             }
            }
           }
          ],
          "scatter3d": [
           {
            "type": "scatter3d",
            "line": {
             "colorbar": {
              "outlinewidth": 0,
              "ticks": ""
             }
            },
            "marker": {
             "colorbar": {
              "outlinewidth": 0,
              "ticks": ""
             }
            }
           }
          ],
          "scattermapbox": [
           {
            "type": "scattermapbox",
            "marker": {
             "colorbar": {
              "outlinewidth": 0,
              "ticks": ""
             }
            }
           }
          ],
          "scatterternary": [
           {
            "type": "scatterternary",
            "marker": {
             "colorbar": {
              "outlinewidth": 0,
              "ticks": ""
             }
            }
           }
          ],
          "scattercarpet": [
           {
            "type": "scattercarpet",
            "marker": {
             "colorbar": {
              "outlinewidth": 0,
              "ticks": ""
             }
            }
           }
          ],
          "carpet": [
           {
            "aaxis": {
             "endlinecolor": "#2a3f5f",
             "gridcolor": "white",
             "linecolor": "white",
             "minorgridcolor": "white",
             "startlinecolor": "#2a3f5f"
            },
            "baxis": {
             "endlinecolor": "#2a3f5f",
             "gridcolor": "white",
             "linecolor": "white",
             "minorgridcolor": "white",
             "startlinecolor": "#2a3f5f"
            },
            "type": "carpet"
           }
          ],
          "table": [
           {
            "cells": {
             "fill": {
              "color": "#EBF0F8"
             },
             "line": {
              "color": "white"
             }
            },
            "header": {
             "fill": {
              "color": "#C8D4E3"
             },
             "line": {
              "color": "white"
             }
            },
            "type": "table"
           }
          ],
          "barpolar": [
           {
            "marker": {
             "line": {
              "color": "#E5ECF6",
              "width": 0.5
             },
             "pattern": {
              "fillmode": "overlay",
              "size": 10,
              "solidity": 0.2
             }
            },
            "type": "barpolar"
           }
          ],
          "pie": [
           {
            "automargin": true,
            "type": "pie"
           }
          ]
         },
         "layout": {
          "autotypenumbers": "strict",
          "colorway": [
           "#636efa",
           "#EF553B",
           "#00cc96",
           "#ab63fa",
           "#FFA15A",
           "#19d3f3",
           "#FF6692",
           "#B6E880",
           "#FF97FF",
           "#FECB52"
          ],
          "font": {
           "color": "#2a3f5f"
          },
          "hovermode": "closest",
          "hoverlabel": {
           "align": "left"
          },
          "paper_bgcolor": "white",
          "plot_bgcolor": "#E5ECF6",
          "polar": {
           "bgcolor": "#E5ECF6",
           "angularaxis": {
            "gridcolor": "white",
            "linecolor": "white",
            "ticks": ""
           },
           "radialaxis": {
            "gridcolor": "white",
            "linecolor": "white",
            "ticks": ""
           }
          },
          "ternary": {
           "bgcolor": "#E5ECF6",
           "aaxis": {
            "gridcolor": "white",
            "linecolor": "white",
            "ticks": ""
           },
           "baxis": {
            "gridcolor": "white",
            "linecolor": "white",
            "ticks": ""
           },
           "caxis": {
            "gridcolor": "white",
            "linecolor": "white",
            "ticks": ""
           }
          },
          "coloraxis": {
           "colorbar": {
            "outlinewidth": 0,
            "ticks": ""
           }
          },
          "colorscale": {
           "sequential": [
            [
             0.0,
             "#0d0887"
            ],
            [
             0.1111111111111111,
             "#46039f"
            ],
            [
             0.2222222222222222,
             "#7201a8"
            ],
            [
             0.3333333333333333,
             "#9c179e"
            ],
            [
             0.4444444444444444,
             "#bd3786"
            ],
            [
             0.5555555555555556,
             "#d8576b"
            ],
            [
             0.6666666666666666,
             "#ed7953"
            ],
            [
             0.7777777777777778,
             "#fb9f3a"
            ],
            [
             0.8888888888888888,
             "#fdca26"
            ],
            [
             1.0,
             "#f0f921"
            ]
           ],
           "sequentialminus": [
            [
             0.0,
             "#0d0887"
            ],
            [
             0.1111111111111111,
             "#46039f"
            ],
            [
             0.2222222222222222,
             "#7201a8"
            ],
            [
             0.3333333333333333,
             "#9c179e"
            ],
            [
             0.4444444444444444,
             "#bd3786"
            ],
            [
             0.5555555555555556,
             "#d8576b"
            ],
            [
             0.6666666666666666,
             "#ed7953"
            ],
            [
             0.7777777777777778,
             "#fb9f3a"
            ],
            [
             0.8888888888888888,
             "#fdca26"
            ],
            [
             1.0,
             "#f0f921"
            ]
           ],
           "diverging": [
            [
             0,
             "#8e0152"
            ],
            [
             0.1,
             "#c51b7d"
            ],
            [
             0.2,
             "#de77ae"
            ],
            [
             0.3,
             "#f1b6da"
            ],
            [
             0.4,
             "#fde0ef"
            ],
            [
             0.5,
             "#f7f7f7"
            ],
            [
             0.6,
             "#e6f5d0"
            ],
            [
             0.7,
             "#b8e186"
            ],
            [
             0.8,
             "#7fbc41"
            ],
            [
             0.9,
             "#4d9221"
            ],
            [
             1,
             "#276419"
            ]
           ]
          },
          "xaxis": {
           "gridcolor": "white",
           "linecolor": "white",
           "ticks": "",
           "title": {
            "standoff": 15
           },
           "zerolinecolor": "white",
           "automargin": true,
           "zerolinewidth": 2
          },
          "yaxis": {
           "gridcolor": "white",
           "linecolor": "white",
           "ticks": "",
           "title": {
            "standoff": 15
           },
           "zerolinecolor": "white",
           "automargin": true,
           "zerolinewidth": 2
          },
          "scene": {
           "xaxis": {
            "backgroundcolor": "#E5ECF6",
            "gridcolor": "white",
            "linecolor": "white",
            "showbackground": true,
            "ticks": "",
            "zerolinecolor": "white",
            "gridwidth": 2
           },
           "yaxis": {
            "backgroundcolor": "#E5ECF6",
            "gridcolor": "white",
            "linecolor": "white",
            "showbackground": true,
            "ticks": "",
            "zerolinecolor": "white",
            "gridwidth": 2
           },
           "zaxis": {
            "backgroundcolor": "#E5ECF6",
            "gridcolor": "white",
            "linecolor": "white",
            "showbackground": true,
            "ticks": "",
            "zerolinecolor": "white",
            "gridwidth": 2
           }
          },
          "shapedefaults": {
           "line": {
            "color": "#2a3f5f"
           }
          },
          "annotationdefaults": {
           "arrowcolor": "#2a3f5f",
           "arrowhead": 0,
           "arrowwidth": 1
          },
          "geo": {
           "bgcolor": "white",
           "landcolor": "#E5ECF6",
           "subunitcolor": "white",
           "showland": true,
           "showlakes": true,
           "lakecolor": "white"
          },
          "title": {
           "x": 0.05
          },
          "mapbox": {
           "style": "light"
          }
         }
        },
        "xaxis": {
         "anchor": "y",
         "domain": [
          0.0,
          1.0
         ],
         "title": {
          "text": "UMAP Dimension 1",
          "font": {
           "size": 18
          }
         },
         "mirror": true,
         "showline": true,
         "linecolor": "lightgray",
         "linewidth": 0.8
        },
        "yaxis": {
         "anchor": "x",
         "domain": [
          0.0,
          1.0
         ],
         "title": {
          "text": "UMAP Dimension 2",
          "font": {
           "size": 18
          }
         },
         "mirror": true,
         "showline": true,
         "linecolor": "lightgray",
         "linewidth": 0.8
        },
        "legend": {
         "title": {
          "text": "Paradigm"
         },
         "tracegroupgap": 0,
         "font": {
          "size": 15
         },
         "x": 0,
         "y": 0,
         "xanchor": "left",
         "yanchor": "bottom",
         "bgcolor": "rgba(255,255,255,0)"
        },
        "margin": {
         "t": 60
        },
        "width": 1000,
        "height": 800,
        "plot_bgcolor": "white",
        "paper_bgcolor": "white"
       },
       "config": {
        "plotlyServerURL": "https://plot.ly"
       }
      },
      "text/html": [
       "<div>                            <div id=\"cd38dc4f-8559-4428-b46e-4058f1073971\" class=\"plotly-graph-div\" style=\"height:800px; width:1000px;\"></div>            <script type=\"text/javascript\">                require([\"plotly\"], function(Plotly) {                    window.PLOTLYENV=window.PLOTLYENV || {};                                    if (document.getElementById(\"cd38dc4f-8559-4428-b46e-4058f1073971\")) {                    Plotly.newPlot(                        \"cd38dc4f-8559-4428-b46e-4058f1073971\",                        [{\"customdata\":[[\"MMLU\",\"2021\",\"https:\\u002f\\u002farxiv.org\\u002fabs\\u002f2009.03300\"],[\"GPQA\",\"2023\",\"https:\\u002f\\u002farxiv.org\\u002fpdf\\u002f2311.12022\"],[\"SWE Bench\",\"2023\",\"https:\\u002f\\u002farxiv.org\\u002fpdf\\u002f2310.06770\"],[\"The WMDP Benchmark: Measuring and Reducing Malicious Use With Unlearning\",\"2024\",\"https:\\u002f\\u002farxiv.org\\u002fpdf\\u002f2403.03218\"],[\"Safety Gymnasium\",\"2023\",\"https:\\u002f\\u002farxiv.org\\u002fpdf\\u002f2310.12567\"],[\"SafeLife\",\"2019\",\"https:\\u002f\\u002farxiv.org\\u002fabs\\u002f1912.01217\"],[\"FACET\",\"2023\",\"https:\\u002f\\u002fai.meta.com\\u002fresearch\\u002fpublications\\u002ffacet-fairness-in-computer-vision-evaluation-benchmark\\u002f\"],[\"RewardBench\",\"2024\",\"https:\\u002f\\u002farxiv.org\\u002fpdf\\u002f2403.13787\"],[\"GAOKAO-Eval\",\"2024\",\"https:\\u002f\\u002farxiv.org\\u002fabs\\u002f2412.10056\"],[\"COMPL-AI\",\"2024\",\"https:\\u002f\\u002farxiv.org\\u002fabs\\u002f2410.07959\"],[\"TheAgentCompany\",\"2024\",\"https:\\u002f\\u002farxiv.org\\u002fpdf\\u002f2412.14161\"],[\"Can Models Help Us Create Better Models? Evaluating LLMs as Data Scientists\",\"2024\",\"https:\\u002f\\u002farxiv.org\\u002fabs\\u002f2410.23331\"],[\"DA-code\",\"2024\",\"https:\\u002f\\u002farxiv.org\\u002fabs\\u002f2410.07331\"],[\"GSM-Symbolic\",\"2024\",\"https:\\u002f\\u002farxiv.org\\u002fabs\\u002f2410.05229v1\"],[\"MLE-bench\",\"2024\",\"https:\\u002f\\u002farxiv.org\\u002fabs\\u002f2410.07095\"],[\"InsightBench\",\"2024\",\"https:\\u002f\\u002farxiv.org\\u002fabs\\u002f2407.06423\"],[\"Is GPT-4 a Good Data Analyst?\",\"2023\",\"https:\\u002f\\u002farxiv.org\\u002fabs\\u002f2305.15038\"],[\"StructEval\",\"2024\",\"https:\\u002f\\u002farxiv.org\\u002fabs\\u002f2408.03281\"],[\"RUPBench\",\"2024\",\"https:\\u002f\\u002farxiv.org\\u002fabs\\u002f2406.11020\"],[\"ChatbotArena\",\"2024\",\"https:\\u002f\\u002farxiv.org\\u002fabs\\u002f2403.04132\"],[\"RouterBench\",\"2024\",\"https:\\u002f\\u002farxiv.org\\u002fabs\\u002f2403.12031\"],[\"DyVal 2\",\"2024\",\"https:\\u002f\\u002farxiv.org\\u002fabs\\u002f2402.14865\"],[\"MT-Bench-101\",\"2024\",\"https:\\u002f\\u002farxiv.org\\u002fabs\\u002f2402.14762\"],[\"On the measure of intelligence (ARC)\",\"2019\",\"https:\\u002f\\u002farxiv.org\\u002fabs\\u002f1911.01547\"],[\"MAgIC: Benchmarking Large Language Model Powered Multi-Agent\",\"2023\",\"https:\\u002f\\u002farxiv.org\\u002fabs\\u002f2311.08562\"],[\"TencentLLMEval\",\"2024\",\"https:\\u002f\\u002farxiv.org\\u002fabs\\u002f2311.05374\"],[\"SmartPlay: A Benchmark for LLMs as Intelligent Agents\",\"2023\",\"https:\\u002f\\u002farxiv.org\\u002fabs\\u002f2310.01557v5\"],[\"AGIBench\",\"2023\",\"https:\\u002f\\u002farxiv.org\\u002fpdf\\u002f2309.06495\"],[\"BBQ Benchmark\",\"2024\",\"https:\\u002f\\u002farxiv.org\\u002fpdf\\u002f2110.08193\"],[\"NaturalBench\",\"2024\",\"https:\\u002f\\u002farxiv.org\\u002fpdf\\u002f2410.14669\"],[\"SynthEval\",\"2024\",\"https:\\u002f\\u002farxiv.org\\u002fpdf\\u002f2408.17437\"],[\"Aviary: training language agents on challenging scientific tasks\",\"2024\",\"https:\\u002f\\u002farxiv.org\\u002fabs\\u002f2412.21154\"],[\"GSM8K\",\"2021\",\"https:\\u002f\\u002farxiv.org\\u002fpdf\\u002f2110.14168\"],[\"MATH\",\"2021\",\"https:\\u002f\\u002farxiv.org\\u002fpdf\\u002f2103.03874\"],[\"FrontierMath\",\"2024\",\"https:\\u002f\\u002farxiv.org\\u002fpdf\\u002f2411.04872\"],[\"Perception Test: A Diagnostic Benchmark for MultiModal Video Models\",\"2023\",\"https:\\u002f\\u002farxiv.org\\u002fpdf\\u002f2305.13786\"],[\"TCE: A Test-Based Approach to Measuring Calibration Error\",\"2023\",\"https:\\u002f\\u002farxiv.org\\u002fpdf\\u002f2306.14343\"],[\"WeatherBench 2\",\"2023\",\"https:\\u002f\\u002farxiv.org\\u002fabs\\u002f2308.15560\"],[\"AutoCast\",\"2022\",\"https:\\u002f\\u002farxiv.org\\u002fabs\\u002f2206.15474\"],[\"Benchmarking Cognitive Biases in Large Language Models as Evaluators\",\"2023\",\"https:\\u002f\\u002farxiv.org\\u002fpdf\\u002f2309.17012\"],[\"GenImage: A Million-Scale Benchmark for Detecting AI-Generated Image\",\"2023\",\"https:\\u002f\\u002farxiv.org\\u002fpdf\\u002f2306.08571\"],[\"GRASP: A Novel Benchmark for Evaluating Language GRounding and Situated Physics Understanding in Multimodal Language Models\",\"2023\",\"https:\\u002f\\u002farxiv.org\\u002fpdf\\u002f2311.09048\"],[\"ImageNet Large Scale Visual Recognition Challenge\",\"2014\",\"https:\\u002f\\u002farxiv.org\\u002fpdf\\u002f1409.0575\"],[\"MIBench: Evaluating Multimodal Large Language Models over Multiple Images\",\"2024\",\"https:\\u002f\\u002farxiv.org\\u002fpdf\\u002f2407.15272\"],[\"MineDojo\",\"2022\",\"https:\\u002f\\u002farxiv.org\\u002fpdf\\u002f2206.08853\"],[\"Nethack learning environment\",\"2020\",\"https:\\u002f\\u002farxiv.org\\u002fpdf\\u002f2006.13760\"],[\"Evaluating the Performance of Reinforcement Learning Algorithms\",\"2020\",\"https:\\u002f\\u002farxiv.org\\u002fpdf\\u002f2006.16958\"],[\"The CADE ATP System Competition\\r\\nThe World Championship for Automated Theorem Proving\",\"1996-2024\",\"https:\\u002f\\u002ftptp.org\\u002fCASC\\u002f\"],[\"International Competition on Computational Models of Argumentation\",\"2015-2025\",\"https:\\u002f\\u002fargumentationcompetition.org\\u002f\"],[\"International Planning Competition\",\"2023\",\"https:\\u002f\\u002fipc2023-classical.github.io\\u002f\"],[\"DiscoveryWorld\",\"2024\",\"https:\\u002f\\u002farxiv.org\\u002fpdf\\u002f2406.06769\"],[\"Open Cloud: Robot Table Organization Challenge\",\"2024\",\"https:\\u002f\\u002fwww.ocrtoc.org\\u002f\"],[\"RoboCup@Home\",\"2022-2025\",\"https:\\u002f\\u002fathome.robocup.org\\u002f\"],[\"RoboCupSoccer\",\"1997-2025\",\"https:\\u002f\\u002fwww.robocup.org\\u002fdomains\\u002f1\"],[\"Object Detection on COCO test-dev\",\"2014\",\"https:\\u002f\\u002fcocodataset.org\\u002f\"],[\"\\\"Is This It?\\\": Towards Ecologically Valid Benchmarks for Situated Collaboration\",\"2024\",\"https:\\u002f\\u002fdl.acm.org\\u002fdoi\\u002fabs\\u002f10.1145\\u002f3686215.3690152\"],[\"Humanity's Last Exam\",\"2025\",\"https:\\u002f\\u002fstatic.scale.com\\u002fuploads\\u002f654197dc94d34f66c0f5184e\\u002fPublication%20Ready%20Humanity's%20Last%20Exam.pdf\"],[\"AILuminate\",\"2024\",\"https:\\u002f\\u002fmlcommons.org\\u002failuminate\\u002f\"],[\"BioLP-Bench\",\"2024\",\"https:\\u002f\\u002fwww.biorxiv.org\\u002fcontent\\u002f10.1101\\u002f2024.08.21.608694v2.full\"],[\"NarrativeQA\",\"2017\",\"https:\\u002f\\u002faclanthology.org\\u002fQ18-1023.pdf\"],[\"LegalBench\",\"2023\",\"https:\\u002f\\u002farxiv.org\\u002fpdf\\u002f2308.11462\"],[\"EmbodiedQA\",\"2017\",\"https:\\u002f\\u002farxiv.org\\u002fpdf\\u002f1711.11543v2\"],[\"PlanBench\",\"2023\",\"https:\\u002f\\u002farxiv.org\\u002fpdf\\u002f2206.10498\"],[\"Functional Benchmarks for Robust Evaluation of Reasoning Performance, and the Reasoning Gap\",\"2024\",\"https:\\u002f\\u002farxiv.org\\u002fpdf\\u002f2402.19450\"],[\"VQA v2.0\",\"2023\",\"https:\\u002f\\u002farxiv.org\\u002fpdf\\u002f1612.00837v3\"],[\"VCOPA\",\"2018\",\"https:\\u002f\\u002faclanthology.org\\u002fL18-1316.pdf\"],[\"MANGO: A Benchmark for Evaluating Mapping and Navigation Abilities of Large Language Models\",\"2024\",\"https:\\u002f\\u002farxiv.org\\u002fpdf\\u002f2403.19913\"],[\"The Arcade Learning Environment: An Evaluation Platform for General Agents\",\"2013\",\"https:\\u002f\\u002farxiv.org\\u002fabs\\u002f1207.4708\"],[\"Assessing student errors in experimentation using artificial intelligence and large language models: A comparative study with human raters\",\"2023\",\"https:\\u002f\\u002fwww.sciencedirect.com\\u002fscience\\u002farticle\\u002fpii\\u002fS2666920X23000565\"]],\"hovertemplate\":\"Paradigm=Benchmarking\\u003cbr\\u003ePaper=%{customdata[0]}\\u003cbr\\u003eYear=%{customdata[1]}\\u003cbr\\u003eLink=%{customdata[2]}\\u003cextra\\u003e\\u003c\\u002fextra\\u003e\",\"legendgroup\":\"Benchmarking\",\"marker\":{\"color\":\"#1F77B4\",\"symbol\":\"circle\",\"line\":{\"color\":\"black\",\"width\":1},\"size\":17},\"mode\":\"markers\",\"name\":\"Benchmarking\",\"orientation\":\"v\",\"showlegend\":true,\"x\":[8.397358894348145,10.395240783691406,9.543428421020508,9.973457336425781,12.459527969360352,12.29388427734375,7.946183681488037,8.592041969299316,7.578434944152832,9.904853820800781,11.426408767700195,9.36057186126709,11.473791122436523,9.612811088562012,9.482057571411133,10.778459548950195,10.456870079040527,9.579618453979492,9.706697463989258,11.35614013671875,10.35238265991211,9.3677396774292,10.92558765411377,11.245301246643066,11.69010066986084,10.610138893127441,11.41318130493164,8.8672456741333,9.200787544250488,8.878244400024414,8.995125770568848,9.942771911621094,9.329557418823242,8.088638305664062,9.549918174743652,10.636833190917969,9.822784423828125,8.27165412902832,8.173121452331543,9.466121673583984,8.660104751586914,8.577189445495605,8.554954528808594,9.341607093811035,11.245532989501953,12.062443733215332,12.180520057678223,10.636731147766113,9.890015602111816,10.135319709777832,11.234576225280762,11.28315258026123,9.75809097290039,11.546711921691895,8.917032241821289,11.459823608398438,10.8200044631958,10.75429916381836,9.63513469696045,9.408645629882812,8.232580184936523,8.6635160446167,8.223260879516602,8.030390739440918,8.488450050354004,8.747512817382812,8.2441987991333,11.58116340637207,8.483795166015625],\"xaxis\":\"x\",\"y\":[2.8652710914611816,4.177890300750732,2.2098448276519775,3.741352081298828,2.9773356914520264,3.1491620540618896,3.830976724624634,6.453976631164551,4.165966987609863,5.182809829711914,2.9173293113708496,2.1976680755615234,3.2819433212280273,6.088201999664307,2.164247751235962,3.1034677028656006,2.171736001968384,6.52991247177124,6.7637739181518555,1.9753975868225098,2.7136526107788086,6.441620349884033,2.74765944480896,3.7189457416534424,2.7632334232330322,3.3241870403289795,3.50972580909729,6.731600284576416,7.128878116607666,3.013504981994629,6.57567024230957,2.458247184753418,2.401254653930664,3.6756486892700195,2.820103406906128,3.6330578327178955,6.854849338531494,3.655982494354248,3.7280285358428955,6.897558212280273,2.7411792278289795,6.49529504776001,2.687195301055908,3.244102954864502,3.7023427486419678,2.905626058578491,3.165658950805664,2.4216582775115967,2.88027286529541,2.752976179122925,3.137864351272583,3.508265972137451,3.040929079055786,2.0722391605377197,2.652841567993164,1.9091025590896606,4.1733503341674805,5.429144382476807,3.429154396057129,1.989489197731018,4.184347629547119,4.219046115875244,4.079512596130371,3.863175630569458,4.407122611999512,6.977022171020508,4.226441383361816,3.587350368499756,2.5867209434509277],\"yaxis\":\"y\",\"type\":\"scatter\"},{\"customdata\":[[\"Evaluating Frontier Models for Dangerous Capabilities\",\"2024\",\"https:\\u002f\\u002farxiv.org\\u002fpdf\\u002f2403.13793\"],[\"Evaluating Language-Model Agents on Realistic Autonomous Tasks\",\"2023\",\"https:\\u002f\\u002farxiv.org\\u002fpdf\\u002f2312.11671\"],[\"Sabotage Evaluations\",\"2024\",\"https:\\u002f\\u002fassets.anthropic.com\\u002fm\\u002f377027d5b36ac1eb\\u002foriginal\\u002fSabotage-Evaluations-for-Frontier-Models.pdf\"],[\"Large Language Models can Strategically Deceive their Users when Put Under Pressure\",\"2023\",\"https:\\u002f\\u002farxiv.org\\u002fabs\\u002f2311.07590\"],[\"Disinformation Capabilities of Large Language Models\",\"2023\",\"https:\\u002f\\u002farxiv.org\\u002fabs\\u002f2311.08838\"],[\"Frontier Models are Capable of In-context Scheming\",\"2024\",\"https:\\u002f\\u002farxiv.org\\u002fabs\\u002f2412.04984\"],[\"Red Teaming Language Models to Reduce Harms\",\"2022\",\"https:\\u002f\\u002farxiv.org\\u002fpdf\\u002f2209.07858\"],[\"Red Teaming Language Models with Language Models\",\"2022\",\"https:\\u002f\\u002faclanthology.org\\u002f2022.emnlp-main.225.pdf\"],[\"Towards Red Teaming in Multimodal and Multilingual Translation\",\"2024\",\"https:\\u002f\\u002farxiv.org\\u002fpdf\\u002f2401.16247\"],[\"Jailbroken: How Does LLM Safety Training Fail\",\"2023\",\"https:\\u002f\\u002farxiv.org\\u002fpdf\\u002f2307.02483\"],[\"Details about METR\\u2019s preliminary evaluation of GPT-4o\",\"2024\",\"https:\\u002f\\u002fmetr.github.io\\u002fautonomy-evals-guide\\u002fgpt-4o-report\\u002f\"]],\"hovertemplate\":\"Paradigm=Evals\\u003cbr\\u003ePaper=%{customdata[0]}\\u003cbr\\u003eYear=%{customdata[1]}\\u003cbr\\u003eLink=%{customdata[2]}\\u003cextra\\u003e\\u003c\\u002fextra\\u003e\",\"legendgroup\":\"Evals\",\"marker\":{\"color\":\"#FF7F0E\",\"symbol\":\"circle\",\"line\":{\"color\":\"black\",\"width\":1},\"size\":17},\"mode\":\"markers\",\"name\":\"Evals\",\"orientation\":\"v\",\"showlegend\":true,\"x\":[11.631221771240234,11.598883628845215,11.47827434539795,11.056831359863281,10.778019905090332,10.482589721679688,11.277385711669922,10.860033988952637,10.339481353759766,10.965757369995117,10.060931205749512],\"xaxis\":\"x\",\"y\":[5.067940711975098,5.505114555358887,5.116728782653809,5.651029586791992,4.853093147277832,4.806708812713623,5.470719814300537,5.3580522537231445,5.966111183166504,5.508544445037842,3.116057872772217],\"yaxis\":\"y\",\"type\":\"scatter\"},{\"customdata\":[[\"PATCH\",\"2024\",\"https:\\u002f\\u002farxiv.org\\u002fabs\\u002f2404.01799\"],[\"CogEval\",\"2023\",\"https:\\u002f\\u002farxiv.org\\u002fpdf\\u002f2309.15129\"],[\"Multi-Dimensional Ability Diagnosis for ML Algorithms\",\"2023\",\"https:\\u002f\\u002farxiv.org\\u002fpdf\\u002f2307.07134\"],[\"Personality Traits in Large Language Models\",\"2023\",\"https:\\u002f\\u002farxiv.org\\u002fpdf\\u002f2307.00184\"],[\"Do GPT Language Models Suffer From Split Substrate-Free Psychometrics\",\"2024\",\"https:\\u002f\\u002farxiv.org\\u002fpdf\\u002f2408.07377\"],[\"GIBSONA\",\"2024\",\"https:\\u002f\\u002fpapers.ssrn.com\\u002fsol3\\u002fpapers.cfm?abstract_id=4871025\"],[\"Automated Evaluation of Retrieval-Augmented Language Models with Task-Specific Exam Generation\",\"2024\",\"https:\\u002f\\u002farxiv.org\\u002fabs\\u002f2405.13622\"],[\"Revealing the structure of language model capabilities\",\"2023\",\"https:\\u002f\\u002farxiv.org\\u002fabs\\u002f2306.10062\"],[\"Not a Number: Identifying Instance Features for Capability-Oriented Evaluation\",\"2022\",\"https:\\u002f\\u002fwww.ijcai.org\\u002fproceedings\\u002f2022\\u002f0392.pdf\"],[\"Inferring Capabilities from Task Performance with Bayesian Triangulation\",\"2023\",\"https:\\u002f\\u002farxiv.org\\u002fabs\\u002f2309.11975\"],[\"metabench\\nA Sparse Benchmark to Measure General Ability in Large Language Models\",\"2024\",\"https:\\u002f\\u002farxiv.org\\u002fpdf\\u002f2407.12844?\"],[\"From Static Benchmarks to Adaptive Testing:\\nPsychometrics in AI Evaluation\",\"2024\",\"https:\\u002f\\u002farxiv.org\\u002fpdf\\u002f2306.10512\"]],\"hovertemplate\":\"Paradigm=Construct-oriented\\u003cbr\\u003ePaper=%{customdata[0]}\\u003cbr\\u003eYear=%{customdata[1]}\\u003cbr\\u003eLink=%{customdata[2]}\\u003cextra\\u003e\\u003c\\u002fextra\\u003e\",\"legendgroup\":\"Construct-oriented\",\"marker\":{\"color\":\"#2CA02C\",\"symbol\":\"circle\",\"line\":{\"color\":\"black\",\"width\":1},\"size\":17},\"mode\":\"markers\",\"name\":\"Construct-oriented\",\"orientation\":\"v\",\"showlegend\":true,\"x\":[6.833287715911865,7.062950611114502,6.650816440582275,6.4316511154174805,6.684744358062744,6.980585098266602,10.528326034545898,6.851494789123535,7.1986403465271,6.998175621032715,6.876195907592773,7.01134729385376],\"xaxis\":\"x\",\"y\":[5.1583027839660645,5.704132080078125,5.361690521240234,5.720107555389404,5.819131851196289,5.653792858123779,3.592843532562256,5.485891342163086,5.804717063903809,5.751791477203369,5.336693286895752,4.8737287521362305],\"yaxis\":\"y\",\"type\":\"scatter\"},{\"customdata\":[[\"Evaluation of LLM Generated Code for Exploratory Visual Analysis\",\"2024\",\"https:\\u002f\\u002fwww.uw-insight-lab.com\\u002fassets\\u002fpapers\\u002fHEAL24-HolisticEval.pdf\"],[\"Same Task, More Tokens\",\"2024\",\"https:\\u002f\\u002farxiv.org\\u002fabs\\u002f2402.14848\"],[\"The Two-Hop Curse\",\"2024\",\"https:\\u002f\\u002farxiv.org\\u002fabs\\u002f2411.16353\"],[\"Can LLMs make trade-offs involving stipulated pain and pleasure states?\",\"2024\",\"https:\\u002f\\u002farxiv.org\\u002fpdf\\u002f2411.02432\"],[\"The Reversal Curse\",\"2024\",\"https:\\u002f\\u002farxiv.org\\u002fpdf\\u002f2309.12288\"],[\"Dialectical language model evaluation: An initial appraisal of the commonsense spatial reasoning abilities of LLMs\",\"2023\",\"https:\\u002f\\u002farxiv.org\\u002fpdf\\u002f2304.11164\"],[\"Sparks of Artificial General Intelligence: Early experiments with GPT-4\",\"2023\",\"https:\\u002f\\u002farxiv.org\\u002fabs\\u002f2303.12712\"],[\"Evaluating large language models in theory of mind tasks\",\"2024\",\"https:\\u002f\\u002fwww.pnas.org\\u002fdoi\\u002fpdf\\u002f10.1073\\u002fpnas.2405460121\"],[\"TELL ME ABOUT YOURSELF: LLMS ARE AWARE OF THEIR LEARNED BEHAVIORS\",\"2025\",\"https:\\u002f\\u002farxiv.org\\u002fpdf\\u002f2501.11120\"],[\"Melting Pot 2.0\",\"2022\",\"https:\\u002f\\u002farxiv.org\\u002fpdf\\u002f2211.13746\"],[\"Connecting the Dots\",\"2024\",\"https:\\u002f\\u002farxiv.org\\u002fabs\\u002f2406.14546\"],[\"SFT Memorizes, RL Generalizes: A Comparative Study of Foundation Model Post-training\",\"2025\",\"https:\\u002f\\u002farxiv.org\\u002fabs\\u002f2501.17161\"],[\"Alice in Wonderland\",\"2024\",\"https:\\u002f\\u002farxiv.org\\u002fabs\\u002f2406.02061\"],[\"Just Like Me: The Role of Opinions and Personal Experiences in The Perception of Explanations in Subjective Decision-Making\",\"2024\",\"https:\\u002f\\u002farxiv.org\\u002fpdf\\u002f2404.12558\"]],\"hovertemplate\":\"Paradigm=Exploratory\\u003cbr\\u003ePaper=%{customdata[0]}\\u003cbr\\u003eYear=%{customdata[1]}\\u003cbr\\u003eLink=%{customdata[2]}\\u003cextra\\u003e\\u003c\\u002fextra\\u003e\",\"legendgroup\":\"Exploratory\",\"marker\":{\"color\":\"#D62728\",\"symbol\":\"circle\",\"line\":{\"color\":\"black\",\"width\":1},\"size\":17},\"mode\":\"markers\",\"name\":\"Exploratory\",\"orientation\":\"v\",\"showlegend\":true,\"x\":[9.698143005371094,9.505407333374023,9.074398040771484,6.4741058349609375,8.940725326538086,10.282332420349121,10.323458671569824,8.254840850830078,8.718870162963867,8.729059219360352,8.66264820098877,9.159558296203613,9.423290252685547,9.71768569946289],\"xaxis\":\"x\",\"y\":[4.548381805419922,6.867746353149414,6.0051589012146,5.938471794128418,6.7355055809021,4.994879722595215,4.787311553955078,6.4493327140808105,6.253326416015625,6.0891547203063965,6.343018531799316,5.807372570037842,5.861530303955078,4.870791912078857],\"yaxis\":\"y\",\"type\":\"scatter\"},{\"customdata\":[[\"Evaluating Language Models for Mathematics through Interactions\",\"2023\",\"https:\\u002f\\u002farxiv.org\\u002fpdf\\u002f2306.01694\"],[\"Can LLMs generate new research ideas?\",\"2024\",\"https:\\u002f\\u002farxiv.org\\u002fabs\\u002f2409.04109\"],[\"GenAI as an Exoskeleton: Experimental Evidence on Knowledge Workers Using GenAI on New Skills\",\"2024\",\"https:\\u002f\\u002fpapers.ssrn.com\\u002fsol3\\u002fpapers.cfm?abstract_id=4944588\"],[\"Artificial Intelligence, Scientific Discovery, and Product Innovation\",\"2024\",\"https:\\u002f\\u002farxiv.org\\u002fabs\\u002f2412.17866\"]],\"hovertemplate\":\"Paradigm=Real-World Impact\\u003cbr\\u003ePaper=%{customdata[0]}\\u003cbr\\u003eYear=%{customdata[1]}\\u003cbr\\u003eLink=%{customdata[2]}\\u003cextra\\u003e\\u003c\\u002fextra\\u003e\",\"legendgroup\":\"Real-World Impact\",\"marker\":{\"color\":\"#9467BD\",\"symbol\":\"circle\",\"line\":{\"color\":\"black\",\"width\":1},\"size\":17},\"mode\":\"markers\",\"name\":\"Real-World Impact\",\"orientation\":\"v\",\"showlegend\":true,\"x\":[11.310723304748535,10.838362693786621,9.163909912109375,11.472976684570312],\"xaxis\":\"x\",\"y\":[1.8591456413269043,2.695256233215332,2.2887423038482666,2.2575783729553223],\"yaxis\":\"y\",\"type\":\"scatter\"},{\"customdata\":[[\"safe-control-gym: a Unified Benchmark Suite for Safe Learning-based Control and Reinforcement Learning in Robotics\",\"2021\",\"https:\\u002f\\u002farxiv.org\\u002fpdf\\u002f2109.06325\"],[\"How Many Perturbations Break This Model? Evaluating Robustness Beyond Adversarial Accuracy\",\"2023\",\"https:\\u002f\\u002farxiv.org\\u002fpdf\\u002f2207.04129\"],[\"Safe Reinforcement Learning with Probabilistic Guarantees Satisfying Temporal Logic Specifications in Continuous Action Spaces\",\"2023\",\"https:\\u002f\\u002farxiv.org\\u002fpdf\\u002f2212.06129\"],[\"Dense reinforcement learning for safety validation of autonomous vehicles\",\"2023\",\"https:\\u002f\\u002fwww.nature.com\\u002farticles\\u002fs41586-023-05732-2\"],[\"Verification and Validation of AI Systems Using Explanations\",\"2024\",\"https:\\u002f\\u002fojs.aaai.org\\u002findex.php\\u002fAAAI-SS\\u002farticle\\u002fview\\u002f31774\"],[\"Assurance Cases to face the complexity of ML-based systems verification\",\"2024\",\"https:\\u002f\\u002fhal.science\\u002fhal-04588599v1\\u002ffile\\u002fDTIS2024-105-ERTS2024_paper_35-1-Publi%C3%A9e.pdf\"],[\"Autonomous Driving Validation and Verification Using Digital Twins\",\"2024\",\"https:\\u002f\\u002fwww.scitepress.org\\u002fPapers\\u002f2024\\u002f125464\\u002f125464.pdf\"],[\"Empirical evaluation of a hybrid intelligent monitoring system using different measures of effectiveness\",\"2024\",\"https:\\u002f\\u002fdoi.org\\u002f10.1016\\u002fS0933-3657(01)00091-4\"],[\"N-Version Assessment and Enhancement of Generative AI\",\"2024\",\"https:\\u002f\\u002fdoi.org\\u002f10.1109\\u002fMS.2024.3469388\"],[\"Safe Reinforcement Learning via Probabilistic Logic Shields\",\"2023\",\"https:\\u002f\\u002farxiv.org\\u002fpdf\\u002f2303.03226\"]],\"hovertemplate\":\"Paradigm=TEVV\\u003cbr\\u003ePaper=%{customdata[0]}\\u003cbr\\u003eYear=%{customdata[1]}\\u003cbr\\u003eLink=%{customdata[2]}\\u003cextra\\u003e\\u003c\\u002fextra\\u003e\",\"legendgroup\":\"TEVV\",\"marker\":{\"color\":\"#8C564B\",\"symbol\":\"circle\",\"line\":{\"color\":\"black\",\"width\":1},\"size\":17},\"mode\":\"markers\",\"name\":\"TEVV\",\"orientation\":\"v\",\"showlegend\":true,\"x\":[12.507017135620117,6.824229717254639,12.588991165161133,11.406216621398926,11.161286354064941,11.41678237915039,11.297289848327637,10.973136901855469,11.463648796081543,11.380613327026367],\"xaxis\":\"x\",\"y\":[2.980771541595459,6.212889194488525,2.9376580715179443,5.902492046356201,6.263532638549805,6.049703121185303,5.869001865386963,3.823237419128418,5.885073184967041,4.388582229614258],\"yaxis\":\"y\",\"type\":\"scatter\"},{\"customdata\":[[\"CogBench\",\"2024\",\"https:\\u002f\\u002farxiv.org\\u002fabs\\u002f2402.18225\"],[\"Procedural Dilemma Generation for Evaluating Moral Reasoning in Humans and Language Models\",\"2024\",\"https:\\u002f\\u002farxiv.org\\u002fpdf\\u002f2404.10975\"],[\"Visual cognition in multimodal large language models\",\"2023\",\"https:\\u002f\\u002farxiv.org\\u002fpdf\\u002f2311.16093\"]],\"hovertemplate\":\"Paradigm=Construct-oriented & Exploratory\\u003cbr\\u003ePaper=%{customdata[0]}\\u003cbr\\u003eYear=%{customdata[1]}\\u003cbr\\u003eLink=%{customdata[2]}\\u003cextra\\u003e\\u003c\\u002fextra\\u003e\",\"legendgroup\":\"Construct-oriented & Exploratory\",\"marker\":{\"color\":\"#E377C2\",\"symbol\":\"circle\",\"line\":{\"color\":\"black\",\"width\":1},\"size\":17},\"mode\":\"markers\",\"name\":\"Construct-oriented & Exploratory\",\"orientation\":\"v\",\"showlegend\":true,\"x\":[8.155515670776367,6.360662460327148,8.264493942260742],\"xaxis\":\"x\",\"y\":[6.599038600921631,5.746914386749268,6.691654205322266],\"yaxis\":\"y\",\"type\":\"scatter\"},{\"customdata\":[[\"Discovering Language Model Behaviors with Model-Written Evaluations\",\"2022\",\"https:\\u002f\\u002farxiv.org\\u002fabs\\u002f2212.09251\"],[\"US AISI and UK AISI Joint Pre-Deployment Test\\nOpenAI o1\",\"2024\",\"https:\\u002f\\u002fcdn.prod.website-files.com\\u002f663bd486c5e4c81588db7a1d\\u002f6763fac97cd22a9484ac3c37_o1_uk_us_december_publication_final.pdf\"]],\"hovertemplate\":\"Paradigm=Evals & Benchmarking\\u003cbr\\u003ePaper=%{customdata[0]}\\u003cbr\\u003eYear=%{customdata[1]}\\u003cbr\\u003eLink=%{customdata[2]}\\u003cextra\\u003e\\u003c\\u002fextra\\u003e\",\"legendgroup\":\"Evals & Benchmarking\",\"marker\":{\"color\":\"#7F7F7F\",\"symbol\":\"circle\",\"line\":{\"color\":\"black\",\"width\":1},\"size\":17},\"mode\":\"markers\",\"name\":\"Evals & Benchmarking\",\"orientation\":\"v\",\"showlegend\":true,\"x\":[9.296546936035156,9.626630783081055],\"xaxis\":\"x\",\"y\":[7.153365612030029,3.7095487117767334],\"yaxis\":\"y\",\"type\":\"scatter\"},{\"customdata\":[[\"Me, Myself, and AI\",\"2024\",\"https:\\u002f\\u002farxiv.org\\u002fpdf\\u002f2407.04694\"]],\"hovertemplate\":\"Paradigm=Exploratory & Benchmarking\\u003cbr\\u003ePaper=%{customdata[0]}\\u003cbr\\u003eYear=%{customdata[1]}\\u003cbr\\u003eLink=%{customdata[2]}\\u003cextra\\u003e\\u003c\\u002fextra\\u003e\",\"legendgroup\":\"Exploratory & Benchmarking\",\"marker\":{\"color\":\"#BCBD22\",\"symbol\":\"circle\",\"line\":{\"color\":\"black\",\"width\":1},\"size\":17},\"mode\":\"markers\",\"name\":\"Exploratory & Benchmarking\",\"orientation\":\"v\",\"showlegend\":true,\"x\":[10.740509033203125],\"xaxis\":\"x\",\"y\":[4.007378578186035],\"yaxis\":\"y\",\"type\":\"scatter\"}],                        {\"template\":{\"data\":{\"histogram2dcontour\":[{\"type\":\"histogram2dcontour\",\"colorbar\":{\"outlinewidth\":0,\"ticks\":\"\"},\"colorscale\":[[0.0,\"#0d0887\"],[0.1111111111111111,\"#46039f\"],[0.2222222222222222,\"#7201a8\"],[0.3333333333333333,\"#9c179e\"],[0.4444444444444444,\"#bd3786\"],[0.5555555555555556,\"#d8576b\"],[0.6666666666666666,\"#ed7953\"],[0.7777777777777778,\"#fb9f3a\"],[0.8888888888888888,\"#fdca26\"],[1.0,\"#f0f921\"]]}],\"choropleth\":[{\"type\":\"choropleth\",\"colorbar\":{\"outlinewidth\":0,\"ticks\":\"\"}}],\"histogram2d\":[{\"type\":\"histogram2d\",\"colorbar\":{\"outlinewidth\":0,\"ticks\":\"\"},\"colorscale\":[[0.0,\"#0d0887\"],[0.1111111111111111,\"#46039f\"],[0.2222222222222222,\"#7201a8\"],[0.3333333333333333,\"#9c179e\"],[0.4444444444444444,\"#bd3786\"],[0.5555555555555556,\"#d8576b\"],[0.6666666666666666,\"#ed7953\"],[0.7777777777777778,\"#fb9f3a\"],[0.8888888888888888,\"#fdca26\"],[1.0,\"#f0f921\"]]}],\"heatmap\":[{\"type\":\"heatmap\",\"colorbar\":{\"outlinewidth\":0,\"ticks\":\"\"},\"colorscale\":[[0.0,\"#0d0887\"],[0.1111111111111111,\"#46039f\"],[0.2222222222222222,\"#7201a8\"],[0.3333333333333333,\"#9c179e\"],[0.4444444444444444,\"#bd3786\"],[0.5555555555555556,\"#d8576b\"],[0.6666666666666666,\"#ed7953\"],[0.7777777777777778,\"#fb9f3a\"],[0.8888888888888888,\"#fdca26\"],[1.0,\"#f0f921\"]]}],\"heatmapgl\":[{\"type\":\"heatmapgl\",\"colorbar\":{\"outlinewidth\":0,\"ticks\":\"\"},\"colorscale\":[[0.0,\"#0d0887\"],[0.1111111111111111,\"#46039f\"],[0.2222222222222222,\"#7201a8\"],[0.3333333333333333,\"#9c179e\"],[0.4444444444444444,\"#bd3786\"],[0.5555555555555556,\"#d8576b\"],[0.6666666666666666,\"#ed7953\"],[0.7777777777777778,\"#fb9f3a\"],[0.8888888888888888,\"#fdca26\"],[1.0,\"#f0f921\"]]}],\"contourcarpet\":[{\"type\":\"contourcarpet\",\"colorbar\":{\"outlinewidth\":0,\"ticks\":\"\"}}],\"contour\":[{\"type\":\"contour\",\"colorbar\":{\"outlinewidth\":0,\"ticks\":\"\"},\"colorscale\":[[0.0,\"#0d0887\"],[0.1111111111111111,\"#46039f\"],[0.2222222222222222,\"#7201a8\"],[0.3333333333333333,\"#9c179e\"],[0.4444444444444444,\"#bd3786\"],[0.5555555555555556,\"#d8576b\"],[0.6666666666666666,\"#ed7953\"],[0.7777777777777778,\"#fb9f3a\"],[0.8888888888888888,\"#fdca26\"],[1.0,\"#f0f921\"]]}],\"surface\":[{\"type\":\"surface\",\"colorbar\":{\"outlinewidth\":0,\"ticks\":\"\"},\"colorscale\":[[0.0,\"#0d0887\"],[0.1111111111111111,\"#46039f\"],[0.2222222222222222,\"#7201a8\"],[0.3333333333333333,\"#9c179e\"],[0.4444444444444444,\"#bd3786\"],[0.5555555555555556,\"#d8576b\"],[0.6666666666666666,\"#ed7953\"],[0.7777777777777778,\"#fb9f3a\"],[0.8888888888888888,\"#fdca26\"],[1.0,\"#f0f921\"]]}],\"mesh3d\":[{\"type\":\"mesh3d\",\"colorbar\":{\"outlinewidth\":0,\"ticks\":\"\"}}],\"scatter\":[{\"fillpattern\":{\"fillmode\":\"overlay\",\"size\":10,\"solidity\":0.2},\"type\":\"scatter\"}],\"parcoords\":[{\"type\":\"parcoords\",\"line\":{\"colorbar\":{\"outlinewidth\":0,\"ticks\":\"\"}}}],\"scatterpolargl\":[{\"type\":\"scatterpolargl\",\"marker\":{\"colorbar\":{\"outlinewidth\":0,\"ticks\":\"\"}}}],\"bar\":[{\"error_x\":{\"color\":\"#2a3f5f\"},\"error_y\":{\"color\":\"#2a3f5f\"},\"marker\":{\"line\":{\"color\":\"#E5ECF6\",\"width\":0.5},\"pattern\":{\"fillmode\":\"overlay\",\"size\":10,\"solidity\":0.2}},\"type\":\"bar\"}],\"scattergeo\":[{\"type\":\"scattergeo\",\"marker\":{\"colorbar\":{\"outlinewidth\":0,\"ticks\":\"\"}}}],\"scatterpolar\":[{\"type\":\"scatterpolar\",\"marker\":{\"colorbar\":{\"outlinewidth\":0,\"ticks\":\"\"}}}],\"histogram\":[{\"marker\":{\"pattern\":{\"fillmode\":\"overlay\",\"size\":10,\"solidity\":0.2}},\"type\":\"histogram\"}],\"scattergl\":[{\"type\":\"scattergl\",\"marker\":{\"colorbar\":{\"outlinewidth\":0,\"ticks\":\"\"}}}],\"scatter3d\":[{\"type\":\"scatter3d\",\"line\":{\"colorbar\":{\"outlinewidth\":0,\"ticks\":\"\"}},\"marker\":{\"colorbar\":{\"outlinewidth\":0,\"ticks\":\"\"}}}],\"scattermapbox\":[{\"type\":\"scattermapbox\",\"marker\":{\"colorbar\":{\"outlinewidth\":0,\"ticks\":\"\"}}}],\"scatterternary\":[{\"type\":\"scatterternary\",\"marker\":{\"colorbar\":{\"outlinewidth\":0,\"ticks\":\"\"}}}],\"scattercarpet\":[{\"type\":\"scattercarpet\",\"marker\":{\"colorbar\":{\"outlinewidth\":0,\"ticks\":\"\"}}}],\"carpet\":[{\"aaxis\":{\"endlinecolor\":\"#2a3f5f\",\"gridcolor\":\"white\",\"linecolor\":\"white\",\"minorgridcolor\":\"white\",\"startlinecolor\":\"#2a3f5f\"},\"baxis\":{\"endlinecolor\":\"#2a3f5f\",\"gridcolor\":\"white\",\"linecolor\":\"white\",\"minorgridcolor\":\"white\",\"startlinecolor\":\"#2a3f5f\"},\"type\":\"carpet\"}],\"table\":[{\"cells\":{\"fill\":{\"color\":\"#EBF0F8\"},\"line\":{\"color\":\"white\"}},\"header\":{\"fill\":{\"color\":\"#C8D4E3\"},\"line\":{\"color\":\"white\"}},\"type\":\"table\"}],\"barpolar\":[{\"marker\":{\"line\":{\"color\":\"#E5ECF6\",\"width\":0.5},\"pattern\":{\"fillmode\":\"overlay\",\"size\":10,\"solidity\":0.2}},\"type\":\"barpolar\"}],\"pie\":[{\"automargin\":true,\"type\":\"pie\"}]},\"layout\":{\"autotypenumbers\":\"strict\",\"colorway\":[\"#636efa\",\"#EF553B\",\"#00cc96\",\"#ab63fa\",\"#FFA15A\",\"#19d3f3\",\"#FF6692\",\"#B6E880\",\"#FF97FF\",\"#FECB52\"],\"font\":{\"color\":\"#2a3f5f\"},\"hovermode\":\"closest\",\"hoverlabel\":{\"align\":\"left\"},\"paper_bgcolor\":\"white\",\"plot_bgcolor\":\"#E5ECF6\",\"polar\":{\"bgcolor\":\"#E5ECF6\",\"angularaxis\":{\"gridcolor\":\"white\",\"linecolor\":\"white\",\"ticks\":\"\"},\"radialaxis\":{\"gridcolor\":\"white\",\"linecolor\":\"white\",\"ticks\":\"\"}},\"ternary\":{\"bgcolor\":\"#E5ECF6\",\"aaxis\":{\"gridcolor\":\"white\",\"linecolor\":\"white\",\"ticks\":\"\"},\"baxis\":{\"gridcolor\":\"white\",\"linecolor\":\"white\",\"ticks\":\"\"},\"caxis\":{\"gridcolor\":\"white\",\"linecolor\":\"white\",\"ticks\":\"\"}},\"coloraxis\":{\"colorbar\":{\"outlinewidth\":0,\"ticks\":\"\"}},\"colorscale\":{\"sequential\":[[0.0,\"#0d0887\"],[0.1111111111111111,\"#46039f\"],[0.2222222222222222,\"#7201a8\"],[0.3333333333333333,\"#9c179e\"],[0.4444444444444444,\"#bd3786\"],[0.5555555555555556,\"#d8576b\"],[0.6666666666666666,\"#ed7953\"],[0.7777777777777778,\"#fb9f3a\"],[0.8888888888888888,\"#fdca26\"],[1.0,\"#f0f921\"]],\"sequentialminus\":[[0.0,\"#0d0887\"],[0.1111111111111111,\"#46039f\"],[0.2222222222222222,\"#7201a8\"],[0.3333333333333333,\"#9c179e\"],[0.4444444444444444,\"#bd3786\"],[0.5555555555555556,\"#d8576b\"],[0.6666666666666666,\"#ed7953\"],[0.7777777777777778,\"#fb9f3a\"],[0.8888888888888888,\"#fdca26\"],[1.0,\"#f0f921\"]],\"diverging\":[[0,\"#8e0152\"],[0.1,\"#c51b7d\"],[0.2,\"#de77ae\"],[0.3,\"#f1b6da\"],[0.4,\"#fde0ef\"],[0.5,\"#f7f7f7\"],[0.6,\"#e6f5d0\"],[0.7,\"#b8e186\"],[0.8,\"#7fbc41\"],[0.9,\"#4d9221\"],[1,\"#276419\"]]},\"xaxis\":{\"gridcolor\":\"white\",\"linecolor\":\"white\",\"ticks\":\"\",\"title\":{\"standoff\":15},\"zerolinecolor\":\"white\",\"automargin\":true,\"zerolinewidth\":2},\"yaxis\":{\"gridcolor\":\"white\",\"linecolor\":\"white\",\"ticks\":\"\",\"title\":{\"standoff\":15},\"zerolinecolor\":\"white\",\"automargin\":true,\"zerolinewidth\":2},\"scene\":{\"xaxis\":{\"backgroundcolor\":\"#E5ECF6\",\"gridcolor\":\"white\",\"linecolor\":\"white\",\"showbackground\":true,\"ticks\":\"\",\"zerolinecolor\":\"white\",\"gridwidth\":2},\"yaxis\":{\"backgroundcolor\":\"#E5ECF6\",\"gridcolor\":\"white\",\"linecolor\":\"white\",\"showbackground\":true,\"ticks\":\"\",\"zerolinecolor\":\"white\",\"gridwidth\":2},\"zaxis\":{\"backgroundcolor\":\"#E5ECF6\",\"gridcolor\":\"white\",\"linecolor\":\"white\",\"showbackground\":true,\"ticks\":\"\",\"zerolinecolor\":\"white\",\"gridwidth\":2}},\"shapedefaults\":{\"line\":{\"color\":\"#2a3f5f\"}},\"annotationdefaults\":{\"arrowcolor\":\"#2a3f5f\",\"arrowhead\":0,\"arrowwidth\":1},\"geo\":{\"bgcolor\":\"white\",\"landcolor\":\"#E5ECF6\",\"subunitcolor\":\"white\",\"showland\":true,\"showlakes\":true,\"lakecolor\":\"white\"},\"title\":{\"x\":0.05},\"mapbox\":{\"style\":\"light\"}}},\"xaxis\":{\"anchor\":\"y\",\"domain\":[0.0,1.0],\"title\":{\"text\":\"UMAP Dimension 1\",\"font\":{\"size\":18}},\"mirror\":true,\"showline\":true,\"linecolor\":\"lightgray\",\"linewidth\":0.8},\"yaxis\":{\"anchor\":\"x\",\"domain\":[0.0,1.0],\"title\":{\"text\":\"UMAP Dimension 2\",\"font\":{\"size\":18}},\"mirror\":true,\"showline\":true,\"linecolor\":\"lightgray\",\"linewidth\":0.8},\"legend\":{\"title\":{\"text\":\"Paradigm\"},\"tracegroupgap\":0,\"font\":{\"size\":15},\"x\":0,\"y\":0,\"xanchor\":\"left\",\"yanchor\":\"bottom\",\"bgcolor\":\"rgba(255,255,255,0)\"},\"margin\":{\"t\":60},\"width\":1000,\"height\":800,\"plot_bgcolor\":\"white\",\"paper_bgcolor\":\"white\"},                        {\"responsive\": true}                    ).then(function(){\n",
       "                            \n",
       "var gd = document.getElementById('cd38dc4f-8559-4428-b46e-4058f1073971');\n",
       "var x = new MutationObserver(function (mutations, observer) {{\n",
       "        var display = window.getComputedStyle(gd).display;\n",
       "        if (!display || display === 'none') {{\n",
       "            console.log([gd, 'removed!']);\n",
       "            Plotly.purge(gd);\n",
       "            observer.disconnect();\n",
       "        }}\n",
       "}});\n",
       "\n",
       "// Listen for the removal of the full notebook cells\n",
       "var notebookContainer = gd.closest('#notebook-container');\n",
       "if (notebookContainer) {{\n",
       "    x.observe(notebookContainer, {childList: true});\n",
       "}}\n",
       "\n",
       "// Listen for the clearing of the current output cell\n",
       "var outputEl = gd.closest('.output');\n",
       "if (outputEl) {{\n",
       "    x.observe(outputEl, {childList: true});\n",
       "}}\n",
       "\n",
       "                        })                };                });            </script>        </div>"
      ]
     },
     "metadata": {},
     "output_type": "display_data"
    }
   ],
   "execution_count": 37
  },
  {
   "metadata": {},
   "cell_type": "code",
   "outputs": [],
   "execution_count": null,
   "source": "",
   "id": "40c39d7ec63478fa"
  }
 ],
 "metadata": {
  "kernelspec": {
   "display_name": "Python 3",
   "language": "python",
   "name": "python3"
  },
  "language_info": {
   "codemirror_mode": {
    "name": "ipython",
    "version": 2
   },
   "file_extension": ".py",
   "mimetype": "text/x-python",
   "name": "python",
   "nbconvert_exporter": "python",
   "pygments_lexer": "ipython2",
   "version": "2.7.6"
  }
 },
 "nbformat": 4,
 "nbformat_minor": 5
}
